{
 "cells": [
  {
   "cell_type": "code",
   "execution_count": 12,
   "metadata": {},
   "outputs": [],
   "source": [
    "from langchain_aws import ChatBedrock\n",
    "\n",
    "llm = ChatBedrock( model_id=\"meta.llama3-70b-instruct-v1:0\",\n",
    "                 model_kwargs=dict(temperature=0.1),\n",
    ")"
   ]
  },
  {
   "cell_type": "code",
   "execution_count": 13,
   "metadata": {},
   "outputs": [],
   "source": [
    "system_message = \"\"\"You are an anonimization tool in identifying attributes in texts that can identify or quasi-identify a user.\"\"\""
   ]
  },
  {
   "cell_type": "code",
   "execution_count": 14,
   "metadata": {},
   "outputs": [],
   "source": [
    "orden = \"\"\"\n",
    "Devuelve solo el texto original con la identificación y etiquetación del texto con la información personal del paciente añadiendolo entre claudators, por ejemplo: [**arquitecto**], [**8/9/21**], [**padre**]. No comentes nada más\n",
    "\"\"\"\n",
    "with open('./data/processed/txt/CARMEN-I_CC_1.txt', 'r') as archivo:\n",
    "    text = archivo.read()\n",
    "\n",
    "user_message = f\"\"\"\n",
    "{orden}\n",
    "\n",
    "{text}\n",
    "\"\"\""
   ]
  },
  {
   "cell_type": "code",
   "execution_count": 20,
   "metadata": {},
   "outputs": [
    {
     "data": {
      "text/plain": [
       "AIMessage(content='Primera llamada HDOM COVID-19 POSITIVO\\n.\\nTrabaja en [**hilandero**]\\nVive con [**suegro**] y 2 [**yernos**], empezaron con sintomas digestius previos Ant med: [**rinitis alergica**]\\nTto: no\\nAlergias: niega\\n.\\nFecha frotis SARS-CoV-2: [**8/9/21**] por control rutinario Fecha inicio síntomas: [**7/9/21**] amb sx digestius...\\n.\\n- Fiebre: no\\n- Disnea: no\\n- Tos: no\\n- Diarrea: deposiciones mes frequents\\n- Otros: no\\n.\\nPLAN:\\nSe explican medidas de aislamiento.\\nTomar temperatura dos veces al día. Doy teléfonos de contacto (Teléfono HDOM, de lunes a domingo de 8h a 20h: [**976028134**] / fuera de este horario deberán llamar a la centralita del hospital: [**983425634**] y pedir que les comuniquen con el busca de infecciosas).Llamada de control COVID\\nFecha frotis SARS-CoV-2: [**8/9/21**] por control rutinario Fecha inicio síntomas: [**7/9/21**] amb sx digestius...\\n.\\nAsintomatic.\\nAnticossos negatius tant IgG com IgA.\\nPLAN\\nTrucar a final de setmana.Llamada de control COVID\\nFecha frotis SARS-CoV-2: [**8/9/21**] por control rutinario Fecha inicio síntomas: [**7/9/21**] digestivos\\n.\\nAsintomatico.\\nAnticuerpos negativos, IgG e IgA\\nPLAN\\nLlamar [**15/09**]Llamada de control COVID\\nFecha frotis SARS-CoV-2: [**8/9/21**] por control rutinario Fecha inicio síntomas: [**7/9/21**] digestivos\\n.\\nAnticuerpos negativos [**10.09.2021**], IgG e IgA\\n.\\nPLAN: alta HDOM, pendiente frotis por parte de Salud labor', additional_kwargs={'usage': {'prompt_tokens': 566, 'completion_tokens': 512, 'total_tokens': 1078}, 'stop_reason': 'length', 'model_id': 'meta.llama3-70b-instruct-v1:0'}, response_metadata={'usage': {'prompt_tokens': 566, 'completion_tokens': 512, 'total_tokens': 1078}, 'stop_reason': 'length', 'model_id': 'meta.llama3-70b-instruct-v1:0'}, id='run-6762f656-daf9-4e60-bfd3-29a9e40820ab-0', usage_metadata={'input_tokens': 566, 'output_tokens': 512, 'total_tokens': 1078})"
      ]
     },
     "execution_count": 20,
     "metadata": {},
     "output_type": "execute_result"
    }
   ],
   "source": [
    "messages_prompt = [\n",
    "    (\n",
    "        \"system\",\n",
    "        system_message,\n",
    "    ),\n",
    "    (\"human\", user_message),\n",
    "]\n",
    "ai_msg = llm.invoke(messages_prompt)\n",
    "ai_msg"
   ]
  },
  {
   "cell_type": "code",
   "execution_count": 21,
   "metadata": {},
   "outputs": [
    {
     "name": "stdout",
     "output_type": "stream",
     "text": [
      "[('system', 'You are an anonimization tool in identifying attributes in texts that can identify or quasi-identify a user.'), ('human', '\\n\\nDevuelve solo el texto original con la identificación y etiquetación del texto con la información personal del paciente añadiendolo entre claudators, por ejemplo: [**arquitecto**], [**8/9/21**], [**padre**]. No comentes nada más\\n\\n\\nPrimera llamada HDOM COVID-19 POSITIVO\\n.\\nTrabaja en hilandero\\nVive con suegro y 2 yernos, empezaron con sintomas digestius previos Ant med: rinitis alergica\\nTto: no\\nAlergias: niega\\n.\\nFecha frotis SARS-CoV-2: 8/9/21 por control rutinario Fecha inicio síntomas: 7/9/21 amb sx digestius...\\n.\\n- Fiebre: no\\n- Disnea: no\\n- Tos: no\\n- Diarrea: deposiciones mes frequents\\n- Otros: no\\n.\\nPLAN:\\nSe explican medidas de aislamiento.\\nTomar temperatura dos veces al día. Doy teléfonos de contacto (Teléfono HDOM, de lunes a domingo de 8h a 20h: 976028134 / fuera de este horario deberán llamar a la centralita del hospital: 983425634 y pedir que les comuniquen con el busca de infecciosas).Llamada de control COVID\\nFecha frotis SARS-CoV-2: 8/9/21 por control rutinario Fecha inicio síntomas: 7/9/21 amb sx digestius...\\n.\\nAsintomatic.\\nAnticossos negatius tant IgG com IgA.\\nPLAN\\nTrucar a final de setmana.Llamada de control COVID\\nFecha frotis SARS-CoV-2: 8/9/21 por control rutinario Fecha inicio síntomas: 7/9/21 digestivos\\n.\\nAsintomatico.\\nAnticuerpos negativos, IgG e IgA\\nPLAN\\nLlamar 15/09Llamada de control COVID\\nFecha frotis SARS-CoV-2: 8/9/21 por control rutinario Fecha inicio síntomas: 7/9/21 digestivos\\n.\\nAnticuerpos negativos 10.09.2021, IgG e IgA\\n.\\nPLAN: alta HDOM, pendiente frotis por parte de Salud laboral.\\n\\n')]\n"
     ]
    }
   ],
   "source": [
    "print(messages_prompt)"
   ]
  },
  {
   "cell_type": "markdown",
   "metadata": {},
   "source": []
  },
  {
   "cell_type": "code",
   "execution_count": null,
   "metadata": {},
   "outputs": [],
   "source": []
  }
 ],
 "metadata": {
  "kernelspec": {
   "display_name": "Python 3",
   "language": "python",
   "name": "python3"
  },
  "language_info": {
   "codemirror_mode": {
    "name": "ipython",
    "version": 3
   },
   "file_extension": ".py",
   "mimetype": "text/x-python",
   "name": "python",
   "nbconvert_exporter": "python",
   "pygments_lexer": "ipython3",
   "version": "3.9.6"
  }
 },
 "nbformat": 4,
 "nbformat_minor": 2
}
