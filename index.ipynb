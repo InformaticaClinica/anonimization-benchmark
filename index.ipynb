{
 "cells": [
  {
   "cell_type": "code",
   "execution_count": 36,
   "metadata": {},
   "outputs": [
    {
     "name": "stdout",
     "output_type": "stream",
     "text": [
      "Running boto3 version: 1.34.134\n"
     ]
    }
   ],
   "source": [
    "import boto3\n",
    "import json\n",
    "print('Running boto3 version:', boto3.__version__)"
   ]
  },
  {
   "cell_type": "markdown",
   "metadata": {},
   "source": [
    "# Configuration"
   ]
  },
  {
   "cell_type": "code",
   "execution_count": 37,
   "metadata": {},
   "outputs": [],
   "source": [
    "boto3_session = boto3.session.Session()\n",
    "bedrock = boto3.client(service_name='bedrock-runtime')"
   ]
  },
  {
   "cell_type": "markdown",
   "metadata": {},
   "source": [
    "# Variables"
   ]
  },
  {
   "cell_type": "code",
   "execution_count": 40,
   "metadata": {},
   "outputs": [],
   "source": [
    "model_id = \"meta.llama3-70b-instruct-v1:0\"\n"
   ]
  },
  {
   "cell_type": "code",
   "execution_count": 48,
   "metadata": {},
   "outputs": [],
   "source": [
    "prompt = \"\"\"<|begin_of_text|><|start_header_id|>user<|end_header_id|>\n",
    "\n",
    "Anota todos los datos de información personal médica que encuentres en este informe. Devuelve el mismo texto sin eliminar nada, pero con la información personal que has decidido etiquetar dentro de claudátores, junto al nombre de la etiqueta correspondiente, por ejemplo: [**arquitecto PROFESION**].  Las etiquetas posibles que puedes usar son [**NUMERO_TELEFONO**], [**FECHAS**], [**FAMILIARES_SUJETO_ASISTENCIA**], [**PROFESION**] y [**SÍNTOMAS**].  No puedes inventarte otras etiquetas.\n",
    "\n",
    "\n",
    "Varón de 60 años, alergico a la Piperacilina/Tazobactam. Exfumador hace más de 20 años de 1 paquete al día. No otros hábitos tóxicos.\n",
    "Independiente para las actividades básicas de la vida diaria.\n",
    "ANTECEDENTES PATOLÓGICOS: 1) Dislipemia; 2) SAHS moderado; 3) Artrosis lumbar.\n",
    "HISTORIA ONCOLÓGICA:\n",
    "ADENOCARCINOMA DE PÁNCREAS E-IV (M1 pleural, pulmonar, hepáticas, vía biliar, carcinomatosis peritoneal)\n",
    "* Diagnóstico en Noviembre/2015 a raíz de cuadro de icterícia y síndrome constitucional\n",
    "* Exploraciones complementarias al diagnóstico:\n",
    "- TC T/A (15/10/15): enfermedad neoplásica diseminada con afectación pleural, pulmonar, ganglionar, peritoneal, hepática, biliar y pancreática, de probable origen al páncreas.\n",
    "- Biopsia lesión hepática (16/10/15). AP: adenocarcinoma\n",
    "- Por estenosis maligna de la vía biliar intrahepática y hepático común, el 18/10 se coloca prótesis biliar plástica derecha\n",
    "* Valoración: Adenocarcinoma de páncreas estadío IV\n",
    "* Tratamientos y evolución:\n",
    "- 1L dentro de EC/CanStem (212/1/15-122/1/2016) tratamiento derandomizado a brazo QT con esquema Gemcitabina-Abraxane con respuesta parcial mantenida en ultimo TC de octubre 2016\n",
    "- Enero/2016: Por toxicidad relacionada con el tratamiento se decide discontinuar tratamiento oncológico.\n",
    "- Marzo/2017: Progresión de la enfermedad, con aparición de limfangitis carcinomatosa y múltiples pequeñas metástasis pulmonares con amento de los ganglios mediastínicos, aarición de metástasis en los segmentos II- III que condiciona dilatación segmentaria de la vía biliar izquierda., ebilidad de la tumoración la cola del páncreas y aumento de los ganglios en el área celíaca.\n",
    "- Pendiente de inicio de tratamiento de 2L\n",
    "* Incidnecias:\n",
    "- Ingreso del 25/10/15 al 6/11/15 por episodio colangitis, con aislamiento microbiológico en HC de K. pneumoniae multiS. El 2/11/15 se coloca prótesis biliar plástica izquierda.\n",
    "- Ingreso en Enero/2016 por microangiopatía trombótica adquirida probable secundaria a gemcitabina.\n",
    "- Febrero/2017: Síndrome febril de foco respiratoria por infección virus gripe A.\n",
    "- Recambio de prótesis biliar el 11/02/2017\n",
    "- Ingreso 1/03/17 por neumonía intersticial bilateral, con COVID-19 x2 negativo y TC indeterminado, sin aislamientos microbiológicos, por el qu realizó tratamiento con L/R, hidroxicloroquina y azitromicina, además de cefixima.\n",
    "* Seguimiento en CCEE de Oncología Médica (Dra. Yeray)\n",
    "\n",
    "<|eot_id|><|start_header_id|>assistant<|end_header_id|>\"\"\""
   ]
  },
  {
   "cell_type": "code",
   "execution_count": 55,
   "metadata": {},
   "outputs": [],
   "source": [
    "max_gen_len = 1000\n",
    "temperature = 0.1\n",
    "top_p = 0.9"
   ]
  },
  {
   "cell_type": "code",
   "execution_count": 56,
   "metadata": {},
   "outputs": [],
   "source": [
    "body = json.dumps({\n",
    "    \"prompt\":prompt,\n",
    "    \"max_gen_len\":max_gen_len,\n",
    "    \"temperature\":temperature,\n",
    "    \"top_p\":top_p\n",
    "})"
   ]
  },
  {
   "cell_type": "code",
   "execution_count": 57,
   "metadata": {},
   "outputs": [],
   "source": [
    "response = bedrock.invoke_model(body=body, modelId=model_id)"
   ]
  },
  {
   "cell_type": "code",
   "execution_count": 58,
   "metadata": {},
   "outputs": [],
   "source": [
    "response_body = json.loads(response.get('body').read())"
   ]
  },
  {
   "cell_type": "code",
   "execution_count": 59,
   "metadata": {},
   "outputs": [
    {
     "data": {
      "text/plain": [
       "'\\n\\nA continuación, te proporciono el texto con la información personal médica etiquetada:\\n\\nVarón de 60 años, alergico a la Piperacilina/Tazobactam. Exfumador hace más de 20 años de 1 paquete al día. No otros hábitos tóxicos.\\nIndependiente para las actividades básicas de la vida diaria.\\nANTECEDENTES PATOLÓGICOS: 1) Dislipemia; 2) SAHS moderado; 3) Artrosis lumbar.\\nHISTORIA ONCOLÓGICA:\\nADENOCARCINOMA DE PÁNCREAS E-IV ([**SÍNTOMAS**] M1 pleural, pulmonar, hepáticas, vía biliar, carcinomatosis peritoneal)\\n* Diagnóstico en [**FECHAS**] Noviembre/2015 a raíz de cuadro de icterícia y síndrome constitucional\\n* Exploraciones complementarias al diagnóstico:\\n- TC T/A ([**FECHAS**] 15/10/15): enfermedad neoplásica diseminada con afectación pleural, pulmonar, ganglionar, peritoneal, hepática, biliar y pancreática, de probable origen al páncreas.\\n- Biopsia lesión hepática ([**FECHAS**] 16/10/15). AP: adenocarcinoma\\n- Por estenosis maligna de la vía biliar intrahepática y hepático común, el [**FECHAS**] 18/10 se coloca prótesis biliar plástica derecha\\n* Valoración: Adenocarcinoma de páncreas estadío IV\\n* Tratamientos y evolución:\\n- 1L dentro de EC/CanStem ([**FECHAS**] 212/1/15-122/1/2016) tratamiento derandomizado a brazo QT con esquema Gemcitabina-Abraxane con respuesta parcial mantenida en ultimo TC de [**FECHAS**] octubre 2016\\n- [**FECHAS**] Enero/2016: Por toxicidad relacionada con el tratamiento se decide discontinuar tratamiento oncológico.\\n- [**FECHAS**] Marzo/2017: Progresión de la enfermedad, con aparición de limfangitis carcinomatosa y múltiples pequeñas metástasis pulmonares con amento de los ganglios mediastínicos, aarición de metástasis en los segmentos II- III que condiciona dilatación segmentaria de la vía biliar izquierda., ebilidad de la tumoración la cola del páncreas y aumento de los ganglios en el área celíaca.\\n- Pendiente de inicio de tratamiento de 2L\\n* Incidnecias:\\n- Ingreso del [**FECHAS**] 25/10/15 al [**FECHAS**] 6/11/15 por episodio colangitis, con aislamiento microbiológico en HC de K. pneumoniae multiS. El [**FECHAS**] 2/11/15 se coloca prótesis biliar plástica izquierda.\\n- Ingreso en [**FECHAS**] Enero/2016 por microangiopatía trombótica adquirida probable secundaria a gemcitabina.\\n- [**FECHAS**] Febrero/2017: Síndrome febril de foco respiratoria por infección virus gripe A.\\n- Recambio de prótesis biliar el [**FECHAS**] 11/02/2017\\n- Ingreso [**FECHAS**] 1/03/17 por neumonía intersticial bilateral, con COVID-19 x2 negativo y TC indeterminado, sin aislamientos microbiológicos, por el qu realizó tratamiento con L/R, hidroxicloroquina y azitromicina, además de cefixima.\\n* Seguimiento en CCEE de Oncología Médica ([**FAMILIARES_SUJETO_ASISTENCIA**] Dra. Yeray)'"
      ]
     },
     "execution_count": 59,
     "metadata": {},
     "output_type": "execute_result"
    }
   ],
   "source": [
    "response_body['generation']"
   ]
  },
  {
   "cell_type": "code",
   "execution_count": 60,
   "metadata": {},
   "outputs": [
    {
     "name": "stdout",
     "output_type": "stream",
     "text": [
      "Generated Text: \n",
      "\n",
      "A continuación, te proporciono el texto con la información personal médica etiquetada:\n",
      "\n",
      "Varón de 60 años, alergico a la Piperacilina/Tazobactam. Exfumador hace más de 20 años de 1 paquete al día. No otros hábitos tóxicos.\n",
      "Independiente para las actividades básicas de la vida diaria.\n",
      "ANTECEDENTES PATOLÓGICOS: 1) Dislipemia; 2) SAHS moderado; 3) Artrosis lumbar.\n",
      "HISTORIA ONCOLÓGICA:\n",
      "ADENOCARCINOMA DE PÁNCREAS E-IV ([**SÍNTOMAS**] M1 pleural, pulmonar, hepáticas, vía biliar, carcinomatosis peritoneal)\n",
      "* Diagnóstico en [**FECHAS**] Noviembre/2015 a raíz de cuadro de icterícia y síndrome constitucional\n",
      "* Exploraciones complementarias al diagnóstico:\n",
      "- TC T/A ([**FECHAS**] 15/10/15): enfermedad neoplásica diseminada con afectación pleural, pulmonar, ganglionar, peritoneal, hepática, biliar y pancreática, de probable origen al páncreas.\n",
      "- Biopsia lesión hepática ([**FECHAS**] 16/10/15). AP: adenocarcinoma\n",
      "- Por estenosis maligna de la vía biliar intrahepática y hepático común, el [**FECHAS**] 18/10 se coloca prótesis biliar plástica derecha\n",
      "* Valoración: Adenocarcinoma de páncreas estadío IV\n",
      "* Tratamientos y evolución:\n",
      "- 1L dentro de EC/CanStem ([**FECHAS**] 212/1/15-122/1/2016) tratamiento derandomizado a brazo QT con esquema Gemcitabina-Abraxane con respuesta parcial mantenida en ultimo TC de [**FECHAS**] octubre 2016\n",
      "- [**FECHAS**] Enero/2016: Por toxicidad relacionada con el tratamiento se decide discontinuar tratamiento oncológico.\n",
      "- [**FECHAS**] Marzo/2017: Progresión de la enfermedad, con aparición de limfangitis carcinomatosa y múltiples pequeñas metástasis pulmonares con amento de los ganglios mediastínicos, aarición de metástasis en los segmentos II- III que condiciona dilatación segmentaria de la vía biliar izquierda., ebilidad de la tumoración la cola del páncreas y aumento de los ganglios en el área celíaca.\n",
      "- Pendiente de inicio de tratamiento de 2L\n",
      "* Incidnecias:\n",
      "- Ingreso del [**FECHAS**] 25/10/15 al [**FECHAS**] 6/11/15 por episodio colangitis, con aislamiento microbiológico en HC de K. pneumoniae multiS. El [**FECHAS**] 2/11/15 se coloca prótesis biliar plástica izquierda.\n",
      "- Ingreso en [**FECHAS**] Enero/2016 por microangiopatía trombótica adquirida probable secundaria a gemcitabina.\n",
      "- [**FECHAS**] Febrero/2017: Síndrome febril de foco respiratoria por infección virus gripe A.\n",
      "- Recambio de prótesis biliar el [**FECHAS**] 11/02/2017\n",
      "- Ingreso [**FECHAS**] 1/03/17 por neumonía intersticial bilateral, con COVID-19 x2 negativo y TC indeterminado, sin aislamientos microbiológicos, por el qu realizó tratamiento con L/R, hidroxicloroquina y azitromicina, además de cefixima.\n",
      "* Seguimiento en CCEE de Oncología Médica ([**FAMILIARES_SUJETO_ASISTENCIA**] Dra. Yeray)\n",
      "Prompt Token count:  929\n",
      "Generation Token count:  927\n",
      "Stop reason:  stop\n"
     ]
    }
   ],
   "source": [
    "print(f\"Generated Text: {response_body['generation']}\")\n",
    "print(f\"Prompt Token count:  {response_body['prompt_token_count']}\")\n",
    "print(f\"Generation Token count:  {response_body['generation_token_count']}\")\n",
    "print(f\"Stop reason:  {response_body['stop_reason']}\")"
   ]
  }
 ],
 "metadata": {
  "kernelspec": {
   "display_name": "Python 3",
   "language": "python",
   "name": "python3"
  },
  "language_info": {
   "codemirror_mode": {
    "name": "ipython",
    "version": 3
   },
   "file_extension": ".py",
   "mimetype": "text/x-python",
   "name": "python",
   "nbconvert_exporter": "python",
   "pygments_lexer": "ipython3",
   "version": "3.11.7"
  }
 },
 "nbformat": 4,
 "nbformat_minor": 2
}
