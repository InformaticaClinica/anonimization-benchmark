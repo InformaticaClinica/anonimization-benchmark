{
 "cells": [
  {
   "cell_type": "code",
   "execution_count": 1,
   "metadata": {},
   "outputs": [
    {
     "name": "stdout",
     "output_type": "stream",
     "text": [
      "Running boto3 version: 1.34.138\n"
     ]
    }
   ],
   "source": [
    "import boto3\n",
    "import json\n",
    "print('Running boto3 version:', boto3.__version__)"
   ]
  },
  {
   "cell_type": "code",
   "execution_count": 2,
   "metadata": {},
   "outputs": [],
   "source": [
    "import boto3\n",
    "import os\n",
    "# os.environ[\"AWS_DEFAULT_REGION\"] = \"eu-west-3\"\n",
    "# os.environ[\"AWS_STS_REGIONAL_ENDPOINTS\"] = \"regional\""
   ]
  },
  {
   "cell_type": "markdown",
   "metadata": {},
   "source": [
    "# Configuration"
   ]
  },
  {
   "cell_type": "code",
   "execution_count": 3,
   "metadata": {},
   "outputs": [],
   "source": [
    "boto3_session = boto3.session.Session()\n",
    "bedrock = boto3.client(service_name='bedrock-runtime')"
   ]
  },
  {
   "cell_type": "markdown",
   "metadata": {},
   "source": [
    "# Variables"
   ]
  },
  {
   "cell_type": "code",
   "execution_count": 4,
   "metadata": {},
   "outputs": [],
   "source": [
    "model_id = \"meta.llama3-70b-instruct-v1:0\""
   ]
  },
  {
   "cell_type": "code",
   "execution_count": 5,
   "metadata": {},
   "outputs": [],
   "source": []
  },
  {
   "cell_type": "code",
   "execution_count": 23,
   "metadata": {},
   "outputs": [],
   "source": [
    "def get_text_and_masked_carmen(name):\n",
    "    filename = f'./data/processed/txt/{name}'\n",
    "    filename_result = f'./data/processed/masked/{name}'\n",
    "    with open(filename, 'r') as archivo:\n",
    "        text = archivo.read()\n",
    "\n",
    "    with open(filename_result, 'r') as archivo:\n",
    "        text_masked = archivo.read()\n",
    "\n",
    "    return [text, text_masked]"
   ]
  },
  {
   "cell_type": "code",
   "execution_count": 26,
   "metadata": {},
   "outputs": [],
   "source": [
    "def generate_prompt(text, init_configuration, orden, max_gen_len=10000, temperature=0.1, top_p=0.9):\n",
    "    prompt = f\"\"\"<|begin_of_text|><|start_header_id|>system<|end_header_id|>\n",
    "    {init_configuration}\n",
    "    <|eot_id|>\n",
    "    <|start_header_id|>user<|end_header_id|>\n",
    "    {orden}\n",
    "    {text}\n",
    "    <|eot_id|><|start_header_id|>assistant<|end_header_id|>\"\"\"\n",
    "    body = json.dumps({\n",
    "        \"prompt\": prompt,\n",
    "        \"max_gen_len\":max_gen_len,\n",
    "        \"temperature\":temperature,\n",
    "        \"top_p\":top_p\n",
    "    })\n",
    "    return body"
   ]
  },
  {
   "cell_type": "code",
   "execution_count": 12,
   "metadata": {},
   "outputs": [],
   "source": []
  },
  {
   "cell_type": "code",
   "execution_count": 13,
   "metadata": {},
   "outputs": [],
   "source": [
    "response_body = json.loads(response.get('body').read())"
   ]
  },
  {
   "cell_type": "code",
   "execution_count": 14,
   "metadata": {},
   "outputs": [
    {
     "data": {
      "text/plain": [
       "'\\n\\nPrimera llamada HDOM COVID-19 POSITIVO\\n.\\nTrabaja en [**hilandero**]\\nVive con [**suegro**] y 2 [**yernos**], empezaron con sintomas digestius previos Ant med: [**rinitis alergica**]\\nTto: no\\nAlergias: niega\\n.\\nFecha frotis SARS-CoV-2: [**8/9/21**] por control rutinario Fecha inicio síntomas: [**7/9/21**] amb sx digestius...\\n.\\n- Fiebre: no\\n- Disnea: no\\n- Tos: no\\n- Diarrea: deposiciones mes frequents\\n- Otros: no\\n.\\nPLAN:\\nSe explican medidas de aislamiento.\\nTomar temperatura dos veces al día. Doy teléfonos de contacto (Teléfono HDOM, de lunes a domingo de 8h a 20h: [**976028134**] / fuera de este horario deberán llamar a la centralita del hospital: [**983425634**] y pedir que les comuniquen con el busca de infecciosas).Llamada de control COVID\\nFecha frotis SARS-CoV-2: [**8/9/21**] por control rutinario Fecha inicio síntomas: [**7/9/21**] amb sx digestius...\\n.\\nAsintomatic.\\nAnticossos negatius tant IgG com IgA.\\nPLAN\\nTrucar a final de setmana.Llamada de control COVID\\nFecha frotis SARS-CoV-2: [**8/9/21**] por control rutinario Fecha inicio síntomas: [**7/9/21**] digestivos\\n.\\nAsintomatico.\\nAnticuerpos negativos, IgG e IgA\\nPLAN\\nLlamar [**15/09**]Llamada de control COVID\\nFecha frotis SARS-CoV-2: [**8/9/21**] por control rutinario Fecha inicio síntomas: [**7/9/21**] digestivos\\n.\\nAnticuerpos negativos [**10.09.2021**], IgG e IgA\\n.\\nPLAN: alta HDOM, pendiente frotis por parte de Salud laboral.'"
      ]
     },
     "execution_count": 14,
     "metadata": {},
     "output_type": "execute_result"
    }
   ],
   "source": [
    "response_body['generation']"
   ]
  },
  {
   "cell_type": "code",
   "execution_count": 15,
   "metadata": {},
   "outputs": [
    {
     "name": "stdout",
     "output_type": "stream",
     "text": [
      "Generated Text: \n",
      "\n",
      "Primera llamada HDOM COVID-19 POSITIVO\n",
      ".\n",
      "Trabaja en [**hilandero**]\n",
      "Vive con [**suegro**] y 2 [**yernos**], empezaron con sintomas digestius previos Ant med: [**rinitis alergica**]\n",
      "Tto: no\n",
      "Alergias: niega\n",
      ".\n",
      "Fecha frotis SARS-CoV-2: [**8/9/21**] por control rutinario Fecha inicio síntomas: [**7/9/21**] amb sx digestius...\n",
      ".\n",
      "- Fiebre: no\n",
      "- Disnea: no\n",
      "- Tos: no\n",
      "- Diarrea: deposiciones mes frequents\n",
      "- Otros: no\n",
      ".\n",
      "PLAN:\n",
      "Se explican medidas de aislamiento.\n",
      "Tomar temperatura dos veces al día. Doy teléfonos de contacto (Teléfono HDOM, de lunes a domingo de 8h a 20h: [**976028134**] / fuera de este horario deberán llamar a la centralita del hospital: [**983425634**] y pedir que les comuniquen con el busca de infecciosas).Llamada de control COVID\n",
      "Fecha frotis SARS-CoV-2: [**8/9/21**] por control rutinario Fecha inicio síntomas: [**7/9/21**] amb sx digestius...\n",
      ".\n",
      "Asintomatic.\n",
      "Anticossos negatius tant IgG com IgA.\n",
      "PLAN\n",
      "Trucar a final de setmana.Llamada de control COVID\n",
      "Fecha frotis SARS-CoV-2: [**8/9/21**] por control rutinario Fecha inicio síntomas: [**7/9/21**] digestivos\n",
      ".\n",
      "Asintomatico.\n",
      "Anticuerpos negativos, IgG e IgA\n",
      "PLAN\n",
      "Llamar [**15/09**]Llamada de control COVID\n",
      "Fecha frotis SARS-CoV-2: [**8/9/21**] por control rutinario Fecha inicio síntomas: [**7/9/21**] digestivos\n",
      ".\n",
      "Anticuerpos negativos [**10.09.2021**], IgG e IgA\n",
      ".\n",
      "PLAN: alta HDOM, pendiente frotis por parte de Salud laboral.\n",
      "Prompt Token count:  564\n",
      "Generation Token count:  516\n",
      "Stop reason:  stop\n"
     ]
    }
   ],
   "source": [
    "print(f\"Generated Text: {response_body['generation']}\")\n",
    "print(f\"Prompt Token count:  {response_body['prompt_token_count']}\")\n",
    "print(f\"Generation Token count:  {response_body['generation_token_count']}\")\n",
    "print(f\"Stop reason:  {response_body['stop_reason']}\")"
   ]
  },
  {
   "cell_type": "markdown",
   "metadata": {},
   "source": [
    "# Metricas"
   ]
  },
  {
   "cell_type": "code",
   "execution_count": 16,
   "metadata": {},
   "outputs": [],
   "source": [
    "text_generated = response_body['generation']"
   ]
  },
  {
   "cell_type": "code",
   "execution_count": 21,
   "metadata": {},
   "outputs": [
    {
     "name": "stdout",
     "output_type": "stream",
     "text": [
      "\n",
      "\n",
      "Primera llamada HDOM COVID-19 POSITIVO\n",
      ".\n",
      "Trabaja en [**hilandero**]\n",
      "Vive con [**suegro**] y 2 [**yernos**], empezaron con sintomas digestius previos Ant med: [**rinitis alergica**]\n",
      "Tto: no\n",
      "Alergias: niega\n",
      ".\n",
      "Fecha frotis SARS-CoV-2: [**8/9/21**] por control rutinario Fecha inicio síntomas: [**7/9/21**] amb sx digestius...\n",
      ".\n",
      "- Fiebre: no\n",
      "- Disnea: no\n",
      "- Tos: no\n",
      "- Diarrea: deposiciones mes frequents\n",
      "- Otros: no\n",
      ".\n",
      "PLAN:\n",
      "Se explican medidas de aislamiento.\n",
      "Tomar temperatura dos veces al día. Doy teléfonos de contacto (Teléfono HDOM, de lunes a domingo de 8h a 20h: [**976028134**] / fuera de este horario deberán llamar a la centralita del hospital: [**983425634**] y pedir que les comuniquen con el busca de infecciosas).Llamada de control COVID\n",
      "Fecha frotis SARS-CoV-2: [**8/9/21**] por control rutinario Fecha inicio síntomas: [**7/9/21**] amb sx digestius...\n",
      ".\n",
      "Asintomatic.\n",
      "Anticossos negatius tant IgG com IgA.\n",
      "PLAN\n",
      "Trucar a final de setmana.Llamada de control COVID\n",
      "Fecha frotis SARS-CoV-2: [**8/9/21**] por control rutinario Fecha inicio síntomas: [**7/9/21**] digestivos\n",
      ".\n",
      "Asintomatico.\n",
      "Anticuerpos negativos, IgG e IgA\n",
      "PLAN\n",
      "Llamar [**15/09**]Llamada de control COVID\n",
      "Fecha frotis SARS-CoV-2: [**8/9/21**] por control rutinario Fecha inicio síntomas: [**7/9/21**] digestivos\n",
      ".\n",
      "Anticuerpos negativos [**10.09.2021**], IgG e IgA\n",
      ".\n",
      "PLAN: alta HDOM, pendiente frotis por parte de Salud laboral.\n"
     ]
    }
   ],
   "source": [
    "print(text_generated)"
   ]
  },
  {
   "cell_type": "code",
   "execution_count": 403,
   "metadata": {},
   "outputs": [],
   "source": [
    "import re\n",
    "from collections import Counter\n",
    "\n",
    "def calc_metrics(ground_truth, predictions):\n",
    "    ground_truth_counter = Counter(ground_truth)\n",
    "    predictions_counter = Counter(predictions)\n",
    "\n",
    "    true_positives = sum((ground_truth_counter & predictions_counter).values())\n",
    "    false_positives = sum((predictions_counter - ground_truth_counter).values())\n",
    "    false_negatives = sum((ground_truth_counter - predictions_counter).values())\n",
    "\n",
    "    precision = true_positives / (true_positives + false_positives) if (true_positives + false_positives) > 0 else 0\n",
    "    recall = true_positives / (true_positives + false_negatives) if (true_positives + false_negatives) > 0 else 0\n",
    "    f1 = 2 * (precision * recall) / (precision + recall) if (precision + recall) > 0 else 0\n",
    "\n",
    "    return precision, recall, f1\n",
    "\n",
    "def evaluate(masked, generated):\n",
    "    \"\"\" \n",
    "    Input: \n",
    "        - masked (str): Ground_truth text\n",
    "        - generated(str): Text to be evaluated\n",
    "\n",
    "    Output:\n",
    "        - Precision, Recall and F1 (float)\n",
    "    \"\"\"\n",
    "    ground_truth = re.findall(r'\\[\\*\\*(.*?)\\*\\*\\]', masked)\n",
    "    predictions = re.findall(r'\\[\\*\\*(.*?)\\*\\*\\]', generated)\n",
    "    print(ground_truth)\n",
    "    print(predictions)\n",
    "    \n",
    "    return calc_metrics(ground_truth, predictions)"
   ]
  },
  {
   "cell_type": "code",
   "execution_count": 26,
   "metadata": {},
   "outputs": [
    {
     "name": "stdout",
     "output_type": "stream",
     "text": [
      "Primera llamada HDOM COVID-19 POSITIVO\n",
      ".\n",
      "Trabaja en [**hilandero**]\n",
      "Vive con [**suegro**] y [**2 yernos**], empezaron con sintomas digestius previos Ant med: rinitis alergica\n",
      "Tto: no\n",
      "Alergias: niega\n",
      ".\n",
      "Fecha frotis SARS-CoV-2: [**8/9/21**] por control rutinario Fecha inicio síntomas: [**7/9/21**] amb sx digestius...\n",
      ".\n",
      "- Fiebre: no\n",
      "- Disnea: no\n",
      "- Tos: no\n",
      "- Diarrea: deposiciones mes frequents\n",
      "- Otros: no\n",
      ".\n",
      "PLAN:\n",
      "Se explican medidas de aislamiento.\n",
      "Tomar temperatura dos veces al día. Doy teléfonos de contacto (Teléfono HDOM, de lunes a domingo de 8h a 20h: [**976028134**] / fuera de este horario deberán llamar a la centralita del hospital: [**983425634**] y pedir que les comuniquen con el busca de infecciosas).Llamada de control COVID\n",
      "Fecha frotis SARS-CoV-2: [**8/9/21**] por control rutinario Fecha inicio síntomas: [**7/9/21**] amb sx digestius...\n",
      ".\n",
      "Asintomatic.\n",
      "Anticossos negatius tant IgG com IgA.\n",
      "PLAN\n",
      "Trucar a final de setmana.Llamada de control COVID\n",
      "Fecha frotis SARS-CoV-2: [**8/9/21**] por control rutinario Fecha inicio síntomas: [**7/9/21**] digestivos\n",
      ".\n",
      "Asintomatico.\n",
      "Anticuerpos negativos, IgG e IgA\n",
      "PLAN\n",
      "Llamar 15/09Llamada de control COVID\n",
      "Fecha frotis SARS-CoV-2: [**8/9/21**] por control rutinario Fecha inicio síntomas: [**7/9/21**] digestivos\n",
      ".\n",
      "Anticuerpos negativos 10.09.2021, IgG e IgA\n",
      ".\n",
      "PLAN: alta HDOM, pendiente frotis por parte de [**Salud laboral**][**15/09**]Llamada de control COVID\n",
      "Fecha frotis SARS-CoV-2: 8/9/21 por control rutinario Fecha inicio síntomas: 7/9/21 digestivos\n",
      ".\n",
      "Anticuerpos negativos [**10.09.2021**], IgG e IgA\n",
      ".\n",
      "PLAN: alta HDOM, pendiente frotis por parte de Salud laboral.\n"
     ]
    }
   ],
   "source": [
    "with open('./data/processed/masked/CARMEN-I_CC_1.txt', 'r') as archivo:\n",
    "    text_hoped = archivo.read()\n",
    "    print(text_hoped)"
   ]
  },
  {
   "cell_type": "code",
   "execution_count": 27,
   "metadata": {},
   "outputs": [
    {
     "name": "stdout",
     "output_type": "stream",
     "text": [
      "['hilandero', 'suegro', '2 yernos', '8/9/21', '7/9/21', '976028134', '983425634', '8/9/21', '7/9/21', '8/9/21', '7/9/21', '8/9/21', '7/9/21', 'Salud laboral', '15/09', '10.09.2021']\n",
      "['hilandero', 'suegro', 'yernos', 'rinitis alergica', '8/9/21', '7/9/21', '976028134', '983425634', '8/9/21', '7/9/21', '8/9/21', '7/9/21', '15/09', '8/9/21', '7/9/21', '10.09.2021']\n",
      "Precision: 0.8888888888888888\n",
      "Recall: 0.8\n",
      "F1: 0.8421052631578948\n"
     ]
    }
   ],
   "source": [
    "cal_met = evaluate(text_hoped, text_generated)\n",
    "print(f\"Precision: {cal_met[0]}\")\n",
    "print(f\"Recall: {cal_met[1]}\")\n",
    "print(f\"F1: {cal_met[2]}\")"
   ]
  },
  {
   "cell_type": "markdown",
   "metadata": {},
   "source": [
    "## Cosine similarity"
   ]
  },
  {
   "cell_type": "code",
   "execution_count": 29,
   "metadata": {},
   "outputs": [
    {
     "name": "stdout",
     "output_type": "stream",
     "text": [
      "La similitud del coseno entre los textos es: 0.9910432368486771\n"
     ]
    }
   ],
   "source": [
    "from sklearn.feature_extraction.text import TfidfVectorizer\n",
    "from sklearn.metrics.pairwise import cosine_similarity\n",
    "\n",
    "vectorizer = TfidfVectorizer()\n",
    "tfidf_matrix = vectorizer.fit_transform([text_hoped, text_generated])\n",
    "\n",
    "cosine_sim = cosine_similarity(tfidf_matrix[0:1], tfidf_matrix[1:2])\n",
    "\n",
    "print(f\"La similitud del coseno entre los textos es: {cosine_sim[0][0]}\")"
   ]
  },
  {
   "cell_type": "markdown",
   "metadata": {},
   "source": [
    "## Levenshtein Distance"
   ]
  },
  {
   "cell_type": "code",
   "execution_count": 364,
   "metadata": {},
   "outputs": [],
   "source": [
    "from tqdm import tqdm\n",
    "\n",
    "def levenshtein_distance(s1, s2, show_progress=True):\n",
    "    \"\"\"\n",
    "    Calcula la distancia de Levenshtein entre dos cadenas.\n",
    "\n",
    "    La distancia de Levenshtein es el número mínimo de operaciones de edición \n",
    "    (inserción, eliminación o sustitución de un carácter) necesarias para \n",
    "    transformar una cadena en otra.\n",
    "\n",
    "    Parámetros:\n",
    "        s1 (str): Primera cadena\n",
    "        s2 (str): Segunda cadena\n",
    "        show_progress (bool): Si es True, muestra una barra de progreso. \n",
    "                              Por defecto es False.\n",
    "    Retorna:\n",
    "        int: La distancia de Levenshtein entre s1 y s2\n",
    "    \"\"\"\n",
    "    # Usar tqdm solo si show_progress es True\n",
    "    iterable = tqdm(s1) if show_progress else s1\n",
    "\n",
    "    if len(s1) < len(s2):\n",
    "        s1, s2 = s2, s1\n",
    "    if len(s2) == 0:\n",
    "        return len(s1)\n",
    "\n",
    "    previous_row = list(range(len(s2) + 1))\n",
    "    for i, c1 in enumerate(iterable):\n",
    "        current_row = [i + 1]\n",
    "        for j, c2 in enumerate(s2):\n",
    "            insertions = previous_row[j + 1] + 1\n",
    "            deletions = current_row[j] + 1\n",
    "            substitutions = previous_row[j] + (c1 != c2)\n",
    "            current_row.append(min(insertions, deletions, substitutions))\n",
    "        previous_row = current_row\n",
    "    return previous_row[-1]\n",
    "\n"
   ]
  },
  {
   "cell_type": "code",
   "execution_count": 401,
   "metadata": {},
   "outputs": [],
   "source": [
    "[text_generated, text_gt] = [\"\"\"Primera llamada HDOM COVID-19 POSITIVO\n",
    ".\n",
    "Trabaja en [**hilandero**]\n",
    "Vive con [**suegro**] y 2 [**yernos**], empezaron con sintomas digestius previos Ant med: [**rinitis alergica**]\n",
    "Tto: no\n",
    "Alergias: niega\n",
    ".\n",
    "Fecha frotis SARS-CoV-2: [**8/9/21**] por control rutinario Fecha inicio síntomas: [**7/9/21**] amb sx digestius...\n",
    ".\n",
    "- Fiebre: no\n",
    "- Disnea: no\n",
    "- Tos: no\n",
    "- Diarrea: deposiciones mes frequents\n",
    "- Otros: no\n",
    ".\n",
    "PLAN:\n",
    "Se explican medidas de aislamiento.\n",
    "Tomar temperatura dos veces al día. Doy teléfonos de contacto (Teléfono HDOM, de lunes a domingo de 8h a 20h: [**976028134**] / fuera de este horario deberán llamar a la centralita del hospital: [**983425634**] y pedir que les comuniquen con el busca de infecciosas).Llamada de control COVID\n",
    "Fecha frotis SARS-CoV-2: [**8/9/21**] por control rutinario Fecha inicio síntomas: [**7/9/21**] amb sx digestius...\n",
    ".\n",
    "Asintomatic.\n",
    "Anticossos negatius tant IgG com IgA.\n",
    "PLAN\n",
    "Trucar a final de setmana.Llamada de control COVID\n",
    "Fecha frotis SARS-CoV-2: [**8/9/21**] por control rutinario Fecha inicio síntomas: [**7/9/21**] digestivos\n",
    ".\n",
    "Asintomatico.\n",
    "Anticuerpos negativos, IgG e IgA\n",
    "PLAN\n",
    "Llamar [**15/09**]Llamada de control COVID\n",
    "Fecha frotis SARS-CoV-2: [**8/9/21**] por control rutinario Fecha inicio síntomas: [**7/9/21**] digestivos\n",
    ".\n",
    "Anticuerpos negativos [**10.09.2021**], IgG e IgA\n",
    ".\n",
    "PLAN: alta HDOM, pendiente frotis por parte de Salud laboral.\"\"\", \"\"\"Primera llamada HDOM COVID-19 POSITIVO\n",
    ".\n",
    "Trabaja en [**hilandero**]\n",
    "Vive con [**suegro**] y [**2 yernos**], empezaron con sintomas digestius previos Ant med: rinitis alergica\n",
    "Tto: no\n",
    "Alergias: niega\n",
    ".\n",
    "Fecha frotis SARS-CoV-2: [**8/9/21**] por control rutinario Fecha inicio síntomas: [**7/9/21**] amb sx digestius...\n",
    ".\n",
    "- Fiebre: no\n",
    "- Disnea: no\n",
    "- Tos: no\n",
    "- Diarrea: deposiciones mes frequents\n",
    "- Otros: no\n",
    ".\n",
    "PLAN:\n",
    "Se explican medidas de aislamiento.\n",
    "Tomar temperatura dos veces al día. Doy teléfonos de contacto (Teléfono HDOM, de lunes a domingo de 8h a 20h: [**976028134**] / fuera de este horario deberán llamar a la centralita del hospital: [**983425634**] y pedir que les comuniquen con el busca de infecciosas).Llamada de control COVID\n",
    "Fecha frotis SARS-CoV-2: [**8/9/21**] por control rutinario Fecha inicio síntomas: [**7/9/21**] amb sx digestius...\n",
    ".\n",
    "Asintomatic.\n",
    "Anticossos negatius tant IgG com IgA.\n",
    "PLAN\n",
    "Trucar a final de setmana.Llamada de control COVID\n",
    "Fecha frotis SARS-CoV-2: [**8/9/21**] por control rutinario Fecha inicio síntomas: [**7/9/21**] digestivos\n",
    ".\n",
    "Asintomatico.\n",
    "Anticuerpos negativos, IgG e IgA\n",
    "PLAN\n",
    "Llamar 15/09Llamada de control COVID\n",
    "Fecha frotis SARS-CoV-2: [**8/9/21**] por control rutinario Fecha inicio síntomas: [**7/9/21**] digestivos\n",
    ".\n",
    "Anticuerpos negativos 10.09.2021, IgG e IgA\n",
    ".\n",
    "PLAN: alta HDOM, pendiente frotis por parte de [**Salud laboral**][**15/09**]Llamada de control COVID\n",
    "Fecha frotis SARS-CoV-2: 8/9/21 por control rutinario Fecha inicio síntomas: 7/9/21 digestivos\n",
    ".\n",
    "Anticuerpos negativos [**10.09.2021**], IgG e IgA\n",
    ".\n",
    "PLAN: alta HDOM, pendiente frotis por parte de Salud laboral.\"\"\"]"
   ]
  },
  {
   "cell_type": "code",
   "execution_count": 402,
   "metadata": {},
   "outputs": [
    {
     "name": "stdout",
     "output_type": "stream",
     "text": [
      "Levenshtein Distance: 1\n"
     ]
    }
   ],
   "source": [
    "text_generated = text_generated.replace('[**', '').replace('**]', '')\n",
    "text_gt = text_gt.replace('[**', '').replace('**]', '')\n",
    "\n",
    "result = levenshtein_distance(text_generated, text_gt[:len(text_generated)], show_progress=False)\n",
    "print(f'Levenshtein Distance: {result}')"
   ]
  },
  {
   "cell_type": "markdown",
   "metadata": {},
   "source": [
    "# Loop"
   ]
  },
  {
   "cell_type": "code",
   "execution_count": 25,
   "metadata": {},
   "outputs": [],
   "source": []
  },
  {
   "cell_type": "code",
   "execution_count": 27,
   "metadata": {},
   "outputs": [
    {
     "ename": "TokenRetrievalError",
     "evalue": "Error when retrieving token from sso: Token has expired and refresh failed",
     "output_type": "error",
     "traceback": [
      "\u001b[0;31m---------------------------------------------------------------------------\u001b[0m",
      "\u001b[0;31mTokenRetrievalError\u001b[0m                       Traceback (most recent call last)",
      "Cell \u001b[0;32mIn[27], line 9\u001b[0m\n\u001b[1;32m      7\u001b[0m [text, text_masked] \u001b[38;5;241m=\u001b[39m get_text_and_masked_carmen(file)\n\u001b[1;32m      8\u001b[0m body \u001b[38;5;241m=\u001b[39m generate_prompt(text, init_configuration, orden)\n\u001b[0;32m----> 9\u001b[0m response \u001b[38;5;241m=\u001b[39m \u001b[43mbedrock\u001b[49m\u001b[38;5;241;43m.\u001b[39;49m\u001b[43minvoke_model\u001b[49m\u001b[43m(\u001b[49m\u001b[43mbody\u001b[49m\u001b[38;5;241;43m=\u001b[39;49m\u001b[43mbody\u001b[49m\u001b[43m,\u001b[49m\u001b[43m \u001b[49m\u001b[43mmodelId\u001b[49m\u001b[38;5;241;43m=\u001b[39;49m\u001b[43mmodel_id\u001b[49m\u001b[43m)\u001b[49m\n\u001b[1;32m     10\u001b[0m text_generated \u001b[38;5;241m=\u001b[39m response[\u001b[38;5;124m'\u001b[39m\u001b[38;5;124mgeneration\u001b[39m\u001b[38;5;124m'\u001b[39m]\n\u001b[1;32m     11\u001b[0m cal_met \u001b[38;5;241m=\u001b[39m evaluate(text_hoped, text_generated)\n",
      "File \u001b[0;32m~/Library/Python/3.9/lib/python/site-packages/botocore/client.py:565\u001b[0m, in \u001b[0;36mClientCreator._create_api_method.<locals>._api_call\u001b[0;34m(self, *args, **kwargs)\u001b[0m\n\u001b[1;32m    561\u001b[0m     \u001b[38;5;28;01mraise\u001b[39;00m \u001b[38;5;167;01mTypeError\u001b[39;00m(\n\u001b[1;32m    562\u001b[0m         \u001b[38;5;124mf\u001b[39m\u001b[38;5;124m\"\u001b[39m\u001b[38;5;132;01m{\u001b[39;00mpy_operation_name\u001b[38;5;132;01m}\u001b[39;00m\u001b[38;5;124m() only accepts keyword arguments.\u001b[39m\u001b[38;5;124m\"\u001b[39m\n\u001b[1;32m    563\u001b[0m     )\n\u001b[1;32m    564\u001b[0m \u001b[38;5;66;03m# The \"self\" in this scope is referring to the BaseClient.\u001b[39;00m\n\u001b[0;32m--> 565\u001b[0m \u001b[38;5;28;01mreturn\u001b[39;00m \u001b[38;5;28;43mself\u001b[39;49m\u001b[38;5;241;43m.\u001b[39;49m\u001b[43m_make_api_call\u001b[49m\u001b[43m(\u001b[49m\u001b[43moperation_name\u001b[49m\u001b[43m,\u001b[49m\u001b[43m \u001b[49m\u001b[43mkwargs\u001b[49m\u001b[43m)\u001b[49m\n",
      "File \u001b[0;32m~/Library/Python/3.9/lib/python/site-packages/botocore/client.py:1001\u001b[0m, in \u001b[0;36mBaseClient._make_api_call\u001b[0;34m(self, operation_name, api_params)\u001b[0m\n\u001b[1;32m    997\u001b[0m     maybe_compress_request(\n\u001b[1;32m    998\u001b[0m         \u001b[38;5;28mself\u001b[39m\u001b[38;5;241m.\u001b[39mmeta\u001b[38;5;241m.\u001b[39mconfig, request_dict, operation_model\n\u001b[1;32m    999\u001b[0m     )\n\u001b[1;32m   1000\u001b[0m     apply_request_checksum(request_dict)\n\u001b[0;32m-> 1001\u001b[0m     http, parsed_response \u001b[38;5;241m=\u001b[39m \u001b[38;5;28;43mself\u001b[39;49m\u001b[38;5;241;43m.\u001b[39;49m\u001b[43m_make_request\u001b[49m\u001b[43m(\u001b[49m\n\u001b[1;32m   1002\u001b[0m \u001b[43m        \u001b[49m\u001b[43moperation_model\u001b[49m\u001b[43m,\u001b[49m\u001b[43m \u001b[49m\u001b[43mrequest_dict\u001b[49m\u001b[43m,\u001b[49m\u001b[43m \u001b[49m\u001b[43mrequest_context\u001b[49m\n\u001b[1;32m   1003\u001b[0m \u001b[43m    \u001b[49m\u001b[43m)\u001b[49m\n\u001b[1;32m   1005\u001b[0m \u001b[38;5;28mself\u001b[39m\u001b[38;5;241m.\u001b[39mmeta\u001b[38;5;241m.\u001b[39mevents\u001b[38;5;241m.\u001b[39memit(\n\u001b[1;32m   1006\u001b[0m     \u001b[38;5;124m'\u001b[39m\u001b[38;5;124mafter-call.\u001b[39m\u001b[38;5;132;01m{service_id}\u001b[39;00m\u001b[38;5;124m.\u001b[39m\u001b[38;5;132;01m{operation_name}\u001b[39;00m\u001b[38;5;124m'\u001b[39m\u001b[38;5;241m.\u001b[39mformat(\n\u001b[1;32m   1007\u001b[0m         service_id\u001b[38;5;241m=\u001b[39mservice_id, operation_name\u001b[38;5;241m=\u001b[39moperation_name\n\u001b[0;32m   (...)\u001b[0m\n\u001b[1;32m   1012\u001b[0m     context\u001b[38;5;241m=\u001b[39mrequest_context,\n\u001b[1;32m   1013\u001b[0m )\n\u001b[1;32m   1015\u001b[0m \u001b[38;5;28;01mif\u001b[39;00m http\u001b[38;5;241m.\u001b[39mstatus_code \u001b[38;5;241m>\u001b[39m\u001b[38;5;241m=\u001b[39m \u001b[38;5;241m300\u001b[39m:\n",
      "File \u001b[0;32m~/Library/Python/3.9/lib/python/site-packages/botocore/client.py:1027\u001b[0m, in \u001b[0;36mBaseClient._make_request\u001b[0;34m(self, operation_model, request_dict, request_context)\u001b[0m\n\u001b[1;32m   1025\u001b[0m \u001b[38;5;28;01mdef\u001b[39;00m \u001b[38;5;21m_make_request\u001b[39m(\u001b[38;5;28mself\u001b[39m, operation_model, request_dict, request_context):\n\u001b[1;32m   1026\u001b[0m     \u001b[38;5;28;01mtry\u001b[39;00m:\n\u001b[0;32m-> 1027\u001b[0m         \u001b[38;5;28;01mreturn\u001b[39;00m \u001b[38;5;28;43mself\u001b[39;49m\u001b[38;5;241;43m.\u001b[39;49m\u001b[43m_endpoint\u001b[49m\u001b[38;5;241;43m.\u001b[39;49m\u001b[43mmake_request\u001b[49m\u001b[43m(\u001b[49m\u001b[43moperation_model\u001b[49m\u001b[43m,\u001b[49m\u001b[43m \u001b[49m\u001b[43mrequest_dict\u001b[49m\u001b[43m)\u001b[49m\n\u001b[1;32m   1028\u001b[0m     \u001b[38;5;28;01mexcept\u001b[39;00m \u001b[38;5;167;01mException\u001b[39;00m \u001b[38;5;28;01mas\u001b[39;00m e:\n\u001b[1;32m   1029\u001b[0m         \u001b[38;5;28mself\u001b[39m\u001b[38;5;241m.\u001b[39mmeta\u001b[38;5;241m.\u001b[39mevents\u001b[38;5;241m.\u001b[39memit(\n\u001b[1;32m   1030\u001b[0m             \u001b[38;5;124m'\u001b[39m\u001b[38;5;124mafter-call-error.\u001b[39m\u001b[38;5;132;01m{service_id}\u001b[39;00m\u001b[38;5;124m.\u001b[39m\u001b[38;5;132;01m{operation_name}\u001b[39;00m\u001b[38;5;124m'\u001b[39m\u001b[38;5;241m.\u001b[39mformat(\n\u001b[1;32m   1031\u001b[0m                 service_id\u001b[38;5;241m=\u001b[39m\u001b[38;5;28mself\u001b[39m\u001b[38;5;241m.\u001b[39m_service_model\u001b[38;5;241m.\u001b[39mservice_id\u001b[38;5;241m.\u001b[39mhyphenize(),\n\u001b[0;32m   (...)\u001b[0m\n\u001b[1;32m   1035\u001b[0m             context\u001b[38;5;241m=\u001b[39mrequest_context,\n\u001b[1;32m   1036\u001b[0m         )\n",
      "File \u001b[0;32m~/Library/Python/3.9/lib/python/site-packages/botocore/endpoint.py:119\u001b[0m, in \u001b[0;36mEndpoint.make_request\u001b[0;34m(self, operation_model, request_dict)\u001b[0m\n\u001b[1;32m    113\u001b[0m \u001b[38;5;28;01mdef\u001b[39;00m \u001b[38;5;21mmake_request\u001b[39m(\u001b[38;5;28mself\u001b[39m, operation_model, request_dict):\n\u001b[1;32m    114\u001b[0m     logger\u001b[38;5;241m.\u001b[39mdebug(\n\u001b[1;32m    115\u001b[0m         \u001b[38;5;124m\"\u001b[39m\u001b[38;5;124mMaking request for \u001b[39m\u001b[38;5;132;01m%s\u001b[39;00m\u001b[38;5;124m with params: \u001b[39m\u001b[38;5;132;01m%s\u001b[39;00m\u001b[38;5;124m\"\u001b[39m,\n\u001b[1;32m    116\u001b[0m         operation_model,\n\u001b[1;32m    117\u001b[0m         request_dict,\n\u001b[1;32m    118\u001b[0m     )\n\u001b[0;32m--> 119\u001b[0m     \u001b[38;5;28;01mreturn\u001b[39;00m \u001b[38;5;28;43mself\u001b[39;49m\u001b[38;5;241;43m.\u001b[39;49m\u001b[43m_send_request\u001b[49m\u001b[43m(\u001b[49m\u001b[43mrequest_dict\u001b[49m\u001b[43m,\u001b[49m\u001b[43m \u001b[49m\u001b[43moperation_model\u001b[49m\u001b[43m)\u001b[49m\n",
      "File \u001b[0;32m~/Library/Python/3.9/lib/python/site-packages/botocore/endpoint.py:198\u001b[0m, in \u001b[0;36mEndpoint._send_request\u001b[0;34m(self, request_dict, operation_model)\u001b[0m\n\u001b[1;32m    196\u001b[0m context \u001b[38;5;241m=\u001b[39m request_dict[\u001b[38;5;124m'\u001b[39m\u001b[38;5;124mcontext\u001b[39m\u001b[38;5;124m'\u001b[39m]\n\u001b[1;32m    197\u001b[0m \u001b[38;5;28mself\u001b[39m\u001b[38;5;241m.\u001b[39m_update_retries_context(context, attempts)\n\u001b[0;32m--> 198\u001b[0m request \u001b[38;5;241m=\u001b[39m \u001b[38;5;28;43mself\u001b[39;49m\u001b[38;5;241;43m.\u001b[39;49m\u001b[43mcreate_request\u001b[49m\u001b[43m(\u001b[49m\u001b[43mrequest_dict\u001b[49m\u001b[43m,\u001b[49m\u001b[43m \u001b[49m\u001b[43moperation_model\u001b[49m\u001b[43m)\u001b[49m\n\u001b[1;32m    199\u001b[0m success_response, exception \u001b[38;5;241m=\u001b[39m \u001b[38;5;28mself\u001b[39m\u001b[38;5;241m.\u001b[39m_get_response(\n\u001b[1;32m    200\u001b[0m     request, operation_model, context\n\u001b[1;32m    201\u001b[0m )\n\u001b[1;32m    202\u001b[0m \u001b[38;5;28;01mwhile\u001b[39;00m \u001b[38;5;28mself\u001b[39m\u001b[38;5;241m.\u001b[39m_needs_retry(\n\u001b[1;32m    203\u001b[0m     attempts,\n\u001b[1;32m    204\u001b[0m     operation_model,\n\u001b[0;32m   (...)\u001b[0m\n\u001b[1;32m    207\u001b[0m     exception,\n\u001b[1;32m    208\u001b[0m ):\n",
      "File \u001b[0;32m~/Library/Python/3.9/lib/python/site-packages/botocore/endpoint.py:134\u001b[0m, in \u001b[0;36mEndpoint.create_request\u001b[0;34m(self, params, operation_model)\u001b[0m\n\u001b[1;32m    130\u001b[0m     service_id \u001b[38;5;241m=\u001b[39m operation_model\u001b[38;5;241m.\u001b[39mservice_model\u001b[38;5;241m.\u001b[39mservice_id\u001b[38;5;241m.\u001b[39mhyphenize()\n\u001b[1;32m    131\u001b[0m     event_name \u001b[38;5;241m=\u001b[39m \u001b[38;5;124m'\u001b[39m\u001b[38;5;124mrequest-created.\u001b[39m\u001b[38;5;132;01m{service_id}\u001b[39;00m\u001b[38;5;124m.\u001b[39m\u001b[38;5;132;01m{op_name}\u001b[39;00m\u001b[38;5;124m'\u001b[39m\u001b[38;5;241m.\u001b[39mformat(\n\u001b[1;32m    132\u001b[0m         service_id\u001b[38;5;241m=\u001b[39mservice_id, op_name\u001b[38;5;241m=\u001b[39moperation_model\u001b[38;5;241m.\u001b[39mname\n\u001b[1;32m    133\u001b[0m     )\n\u001b[0;32m--> 134\u001b[0m     \u001b[38;5;28;43mself\u001b[39;49m\u001b[38;5;241;43m.\u001b[39;49m\u001b[43m_event_emitter\u001b[49m\u001b[38;5;241;43m.\u001b[39;49m\u001b[43memit\u001b[49m\u001b[43m(\u001b[49m\n\u001b[1;32m    135\u001b[0m \u001b[43m        \u001b[49m\u001b[43mevent_name\u001b[49m\u001b[43m,\u001b[49m\n\u001b[1;32m    136\u001b[0m \u001b[43m        \u001b[49m\u001b[43mrequest\u001b[49m\u001b[38;5;241;43m=\u001b[39;49m\u001b[43mrequest\u001b[49m\u001b[43m,\u001b[49m\n\u001b[1;32m    137\u001b[0m \u001b[43m        \u001b[49m\u001b[43moperation_name\u001b[49m\u001b[38;5;241;43m=\u001b[39;49m\u001b[43moperation_model\u001b[49m\u001b[38;5;241;43m.\u001b[39;49m\u001b[43mname\u001b[49m\u001b[43m,\u001b[49m\n\u001b[1;32m    138\u001b[0m \u001b[43m    \u001b[49m\u001b[43m)\u001b[49m\n\u001b[1;32m    139\u001b[0m prepared_request \u001b[38;5;241m=\u001b[39m \u001b[38;5;28mself\u001b[39m\u001b[38;5;241m.\u001b[39mprepare_request(request)\n\u001b[1;32m    140\u001b[0m \u001b[38;5;28;01mreturn\u001b[39;00m prepared_request\n",
      "File \u001b[0;32m~/Library/Python/3.9/lib/python/site-packages/botocore/hooks.py:412\u001b[0m, in \u001b[0;36mEventAliaser.emit\u001b[0;34m(self, event_name, **kwargs)\u001b[0m\n\u001b[1;32m    410\u001b[0m \u001b[38;5;28;01mdef\u001b[39;00m \u001b[38;5;21memit\u001b[39m(\u001b[38;5;28mself\u001b[39m, event_name, \u001b[38;5;241m*\u001b[39m\u001b[38;5;241m*\u001b[39mkwargs):\n\u001b[1;32m    411\u001b[0m     aliased_event_name \u001b[38;5;241m=\u001b[39m \u001b[38;5;28mself\u001b[39m\u001b[38;5;241m.\u001b[39m_alias_event_name(event_name)\n\u001b[0;32m--> 412\u001b[0m     \u001b[38;5;28;01mreturn\u001b[39;00m \u001b[38;5;28;43mself\u001b[39;49m\u001b[38;5;241;43m.\u001b[39;49m\u001b[43m_emitter\u001b[49m\u001b[38;5;241;43m.\u001b[39;49m\u001b[43memit\u001b[49m\u001b[43m(\u001b[49m\u001b[43maliased_event_name\u001b[49m\u001b[43m,\u001b[49m\u001b[43m \u001b[49m\u001b[38;5;241;43m*\u001b[39;49m\u001b[38;5;241;43m*\u001b[39;49m\u001b[43mkwargs\u001b[49m\u001b[43m)\u001b[49m\n",
      "File \u001b[0;32m~/Library/Python/3.9/lib/python/site-packages/botocore/hooks.py:256\u001b[0m, in \u001b[0;36mHierarchicalEmitter.emit\u001b[0;34m(self, event_name, **kwargs)\u001b[0m\n\u001b[1;32m    245\u001b[0m \u001b[38;5;28;01mdef\u001b[39;00m \u001b[38;5;21memit\u001b[39m(\u001b[38;5;28mself\u001b[39m, event_name, \u001b[38;5;241m*\u001b[39m\u001b[38;5;241m*\u001b[39mkwargs):\n\u001b[1;32m    246\u001b[0m     \u001b[38;5;124;03m\"\"\"\u001b[39;00m\n\u001b[1;32m    247\u001b[0m \u001b[38;5;124;03m    Emit an event by name with arguments passed as keyword args.\u001b[39;00m\n\u001b[1;32m    248\u001b[0m \n\u001b[0;32m   (...)\u001b[0m\n\u001b[1;32m    254\u001b[0m \u001b[38;5;124;03m             handlers.\u001b[39;00m\n\u001b[1;32m    255\u001b[0m \u001b[38;5;124;03m    \"\"\"\u001b[39;00m\n\u001b[0;32m--> 256\u001b[0m     \u001b[38;5;28;01mreturn\u001b[39;00m \u001b[38;5;28;43mself\u001b[39;49m\u001b[38;5;241;43m.\u001b[39;49m\u001b[43m_emit\u001b[49m\u001b[43m(\u001b[49m\u001b[43mevent_name\u001b[49m\u001b[43m,\u001b[49m\u001b[43m \u001b[49m\u001b[43mkwargs\u001b[49m\u001b[43m)\u001b[49m\n",
      "File \u001b[0;32m~/Library/Python/3.9/lib/python/site-packages/botocore/hooks.py:239\u001b[0m, in \u001b[0;36mHierarchicalEmitter._emit\u001b[0;34m(self, event_name, kwargs, stop_on_response)\u001b[0m\n\u001b[1;32m    237\u001b[0m \u001b[38;5;28;01mfor\u001b[39;00m handler \u001b[38;5;129;01min\u001b[39;00m handlers_to_call:\n\u001b[1;32m    238\u001b[0m     logger\u001b[38;5;241m.\u001b[39mdebug(\u001b[38;5;124m'\u001b[39m\u001b[38;5;124mEvent \u001b[39m\u001b[38;5;132;01m%s\u001b[39;00m\u001b[38;5;124m: calling handler \u001b[39m\u001b[38;5;132;01m%s\u001b[39;00m\u001b[38;5;124m'\u001b[39m, event_name, handler)\n\u001b[0;32m--> 239\u001b[0m     response \u001b[38;5;241m=\u001b[39m \u001b[43mhandler\u001b[49m\u001b[43m(\u001b[49m\u001b[38;5;241;43m*\u001b[39;49m\u001b[38;5;241;43m*\u001b[39;49m\u001b[43mkwargs\u001b[49m\u001b[43m)\u001b[49m\n\u001b[1;32m    240\u001b[0m     responses\u001b[38;5;241m.\u001b[39mappend((handler, response))\n\u001b[1;32m    241\u001b[0m     \u001b[38;5;28;01mif\u001b[39;00m stop_on_response \u001b[38;5;129;01mand\u001b[39;00m response \u001b[38;5;129;01mis\u001b[39;00m \u001b[38;5;129;01mnot\u001b[39;00m \u001b[38;5;28;01mNone\u001b[39;00m:\n",
      "File \u001b[0;32m~/Library/Python/3.9/lib/python/site-packages/botocore/signers.py:105\u001b[0m, in \u001b[0;36mRequestSigner.handler\u001b[0;34m(self, operation_name, request, **kwargs)\u001b[0m\n\u001b[1;32m    100\u001b[0m \u001b[38;5;28;01mdef\u001b[39;00m \u001b[38;5;21mhandler\u001b[39m(\u001b[38;5;28mself\u001b[39m, operation_name\u001b[38;5;241m=\u001b[39m\u001b[38;5;28;01mNone\u001b[39;00m, request\u001b[38;5;241m=\u001b[39m\u001b[38;5;28;01mNone\u001b[39;00m, \u001b[38;5;241m*\u001b[39m\u001b[38;5;241m*\u001b[39mkwargs):\n\u001b[1;32m    101\u001b[0m     \u001b[38;5;66;03m# This is typically hooked up to the \"request-created\" event\u001b[39;00m\n\u001b[1;32m    102\u001b[0m     \u001b[38;5;66;03m# from a client's event emitter.  When a new request is created\u001b[39;00m\n\u001b[1;32m    103\u001b[0m     \u001b[38;5;66;03m# this method is invoked to sign the request.\u001b[39;00m\n\u001b[1;32m    104\u001b[0m     \u001b[38;5;66;03m# Don't call this method directly.\u001b[39;00m\n\u001b[0;32m--> 105\u001b[0m     \u001b[38;5;28;01mreturn\u001b[39;00m \u001b[38;5;28;43mself\u001b[39;49m\u001b[38;5;241;43m.\u001b[39;49m\u001b[43msign\u001b[49m\u001b[43m(\u001b[49m\u001b[43moperation_name\u001b[49m\u001b[43m,\u001b[49m\u001b[43m \u001b[49m\u001b[43mrequest\u001b[49m\u001b[43m)\u001b[49m\n",
      "File \u001b[0;32m~/Library/Python/3.9/lib/python/site-packages/botocore/signers.py:190\u001b[0m, in \u001b[0;36mRequestSigner.sign\u001b[0;34m(self, operation_name, request, region_name, signing_type, expires_in, signing_name)\u001b[0m\n\u001b[1;32m    184\u001b[0m     \u001b[38;5;28mself\u001b[39m\u001b[38;5;241m.\u001b[39m_resolve_identity_cache(\n\u001b[1;32m    185\u001b[0m         kwargs,\n\u001b[1;32m    186\u001b[0m         signing_context[\u001b[38;5;124m'\u001b[39m\u001b[38;5;124midentity_cache\u001b[39m\u001b[38;5;124m'\u001b[39m],\n\u001b[1;32m    187\u001b[0m         signing_context[\u001b[38;5;124m'\u001b[39m\u001b[38;5;124mcache_key\u001b[39m\u001b[38;5;124m'\u001b[39m],\n\u001b[1;32m    188\u001b[0m     )\n\u001b[1;32m    189\u001b[0m \u001b[38;5;28;01mtry\u001b[39;00m:\n\u001b[0;32m--> 190\u001b[0m     auth \u001b[38;5;241m=\u001b[39m \u001b[38;5;28;43mself\u001b[39;49m\u001b[38;5;241;43m.\u001b[39;49m\u001b[43mget_auth_instance\u001b[49m\u001b[43m(\u001b[49m\u001b[38;5;241;43m*\u001b[39;49m\u001b[38;5;241;43m*\u001b[39;49m\u001b[43mkwargs\u001b[49m\u001b[43m)\u001b[49m\n\u001b[1;32m    191\u001b[0m \u001b[38;5;28;01mexcept\u001b[39;00m UnknownSignatureVersionError \u001b[38;5;28;01mas\u001b[39;00m e:\n\u001b[1;32m    192\u001b[0m     \u001b[38;5;28;01mif\u001b[39;00m signing_type \u001b[38;5;241m!=\u001b[39m \u001b[38;5;124m'\u001b[39m\u001b[38;5;124mstandard\u001b[39m\u001b[38;5;124m'\u001b[39m:\n",
      "File \u001b[0;32m~/Library/Python/3.9/lib/python/site-packages/botocore/signers.py:310\u001b[0m, in \u001b[0;36mRequestSigner.get_auth_instance\u001b[0;34m(self, signing_name, region_name, signature_version, request_credentials, **kwargs)\u001b[0m\n\u001b[1;32m    308\u001b[0m frozen_credentials \u001b[38;5;241m=\u001b[39m \u001b[38;5;28;01mNone\u001b[39;00m\n\u001b[1;32m    309\u001b[0m \u001b[38;5;28;01mif\u001b[39;00m credentials \u001b[38;5;129;01mis\u001b[39;00m \u001b[38;5;129;01mnot\u001b[39;00m \u001b[38;5;28;01mNone\u001b[39;00m:\n\u001b[0;32m--> 310\u001b[0m     frozen_credentials \u001b[38;5;241m=\u001b[39m \u001b[43mcredentials\u001b[49m\u001b[38;5;241;43m.\u001b[39;49m\u001b[43mget_frozen_credentials\u001b[49m\u001b[43m(\u001b[49m\u001b[43m)\u001b[49m\n\u001b[1;32m    311\u001b[0m kwargs[\u001b[38;5;124m'\u001b[39m\u001b[38;5;124mcredentials\u001b[39m\u001b[38;5;124m'\u001b[39m] \u001b[38;5;241m=\u001b[39m frozen_credentials\n\u001b[1;32m    312\u001b[0m \u001b[38;5;28;01mif\u001b[39;00m \u001b[38;5;28mcls\u001b[39m\u001b[38;5;241m.\u001b[39mREQUIRES_REGION:\n",
      "File \u001b[0;32m~/Library/Python/3.9/lib/python/site-packages/botocore/credentials.py:634\u001b[0m, in \u001b[0;36mRefreshableCredentials.get_frozen_credentials\u001b[0;34m(self)\u001b[0m\n\u001b[1;32m    600\u001b[0m \u001b[38;5;28;01mdef\u001b[39;00m \u001b[38;5;21mget_frozen_credentials\u001b[39m(\u001b[38;5;28mself\u001b[39m):\n\u001b[1;32m    601\u001b[0m     \u001b[38;5;124;03m\"\"\"Return immutable credentials.\u001b[39;00m\n\u001b[1;32m    602\u001b[0m \n\u001b[1;32m    603\u001b[0m \u001b[38;5;124;03m    The ``access_key``, ``secret_key``, and ``token`` properties\u001b[39;00m\n\u001b[0;32m   (...)\u001b[0m\n\u001b[1;32m    632\u001b[0m \n\u001b[1;32m    633\u001b[0m \u001b[38;5;124;03m    \"\"\"\u001b[39;00m\n\u001b[0;32m--> 634\u001b[0m     \u001b[38;5;28;43mself\u001b[39;49m\u001b[38;5;241;43m.\u001b[39;49m\u001b[43m_refresh\u001b[49m\u001b[43m(\u001b[49m\u001b[43m)\u001b[49m\n\u001b[1;32m    635\u001b[0m     \u001b[38;5;28;01mreturn\u001b[39;00m \u001b[38;5;28mself\u001b[39m\u001b[38;5;241m.\u001b[39m_frozen_credentials\n",
      "File \u001b[0;32m~/Library/Python/3.9/lib/python/site-packages/botocore/credentials.py:522\u001b[0m, in \u001b[0;36mRefreshableCredentials._refresh\u001b[0;34m(self)\u001b[0m\n\u001b[1;32m    518\u001b[0m         \u001b[38;5;28;01mreturn\u001b[39;00m\n\u001b[1;32m    519\u001b[0m     is_mandatory_refresh \u001b[38;5;241m=\u001b[39m \u001b[38;5;28mself\u001b[39m\u001b[38;5;241m.\u001b[39mrefresh_needed(\n\u001b[1;32m    520\u001b[0m         \u001b[38;5;28mself\u001b[39m\u001b[38;5;241m.\u001b[39m_mandatory_refresh_timeout\n\u001b[1;32m    521\u001b[0m     )\n\u001b[0;32m--> 522\u001b[0m     \u001b[38;5;28;43mself\u001b[39;49m\u001b[38;5;241;43m.\u001b[39;49m\u001b[43m_protected_refresh\u001b[49m\u001b[43m(\u001b[49m\u001b[43mis_mandatory\u001b[49m\u001b[38;5;241;43m=\u001b[39;49m\u001b[43mis_mandatory_refresh\u001b[49m\u001b[43m)\u001b[49m\n\u001b[1;32m    523\u001b[0m     \u001b[38;5;28;01mreturn\u001b[39;00m\n\u001b[1;32m    524\u001b[0m \u001b[38;5;28;01mfinally\u001b[39;00m:\n",
      "File \u001b[0;32m~/Library/Python/3.9/lib/python/site-packages/botocore/credentials.py:538\u001b[0m, in \u001b[0;36mRefreshableCredentials._protected_refresh\u001b[0;34m(self, is_mandatory)\u001b[0m\n\u001b[1;32m    534\u001b[0m \u001b[38;5;28;01mdef\u001b[39;00m \u001b[38;5;21m_protected_refresh\u001b[39m(\u001b[38;5;28mself\u001b[39m, is_mandatory):\n\u001b[1;32m    535\u001b[0m     \u001b[38;5;66;03m# precondition: this method should only be called if you've acquired\u001b[39;00m\n\u001b[1;32m    536\u001b[0m     \u001b[38;5;66;03m# the self._refresh_lock.\u001b[39;00m\n\u001b[1;32m    537\u001b[0m     \u001b[38;5;28;01mtry\u001b[39;00m:\n\u001b[0;32m--> 538\u001b[0m         metadata \u001b[38;5;241m=\u001b[39m \u001b[38;5;28;43mself\u001b[39;49m\u001b[38;5;241;43m.\u001b[39;49m\u001b[43m_refresh_using\u001b[49m\u001b[43m(\u001b[49m\u001b[43m)\u001b[49m\n\u001b[1;32m    539\u001b[0m     \u001b[38;5;28;01mexcept\u001b[39;00m \u001b[38;5;167;01mException\u001b[39;00m:\n\u001b[1;32m    540\u001b[0m         period_name \u001b[38;5;241m=\u001b[39m \u001b[38;5;124m'\u001b[39m\u001b[38;5;124mmandatory\u001b[39m\u001b[38;5;124m'\u001b[39m \u001b[38;5;28;01mif\u001b[39;00m is_mandatory \u001b[38;5;28;01melse\u001b[39;00m \u001b[38;5;124m'\u001b[39m\u001b[38;5;124madvisory\u001b[39m\u001b[38;5;124m'\u001b[39m\n",
      "File \u001b[0;32m~/Library/Python/3.9/lib/python/site-packages/botocore/credentials.py:685\u001b[0m, in \u001b[0;36mCachedCredentialFetcher.fetch_credentials\u001b[0;34m(self)\u001b[0m\n\u001b[1;32m    684\u001b[0m \u001b[38;5;28;01mdef\u001b[39;00m \u001b[38;5;21mfetch_credentials\u001b[39m(\u001b[38;5;28mself\u001b[39m):\n\u001b[0;32m--> 685\u001b[0m     \u001b[38;5;28;01mreturn\u001b[39;00m \u001b[38;5;28;43mself\u001b[39;49m\u001b[38;5;241;43m.\u001b[39;49m\u001b[43m_get_cached_credentials\u001b[49m\u001b[43m(\u001b[49m\u001b[43m)\u001b[49m\n",
      "File \u001b[0;32m~/Library/Python/3.9/lib/python/site-packages/botocore/credentials.py:695\u001b[0m, in \u001b[0;36mCachedCredentialFetcher._get_cached_credentials\u001b[0;34m(self)\u001b[0m\n\u001b[1;32m    693\u001b[0m response \u001b[38;5;241m=\u001b[39m \u001b[38;5;28mself\u001b[39m\u001b[38;5;241m.\u001b[39m_load_from_cache()\n\u001b[1;32m    694\u001b[0m \u001b[38;5;28;01mif\u001b[39;00m response \u001b[38;5;129;01mis\u001b[39;00m \u001b[38;5;28;01mNone\u001b[39;00m:\n\u001b[0;32m--> 695\u001b[0m     response \u001b[38;5;241m=\u001b[39m \u001b[38;5;28;43mself\u001b[39;49m\u001b[38;5;241;43m.\u001b[39;49m\u001b[43m_get_credentials\u001b[49m\u001b[43m(\u001b[49m\u001b[43m)\u001b[49m\n\u001b[1;32m    696\u001b[0m     \u001b[38;5;28mself\u001b[39m\u001b[38;5;241m.\u001b[39m_write_to_cache(response)\n\u001b[1;32m    697\u001b[0m \u001b[38;5;28;01melse\u001b[39;00m:\n",
      "File \u001b[0;32m~/Library/Python/3.9/lib/python/site-packages/botocore/credentials.py:2150\u001b[0m, in \u001b[0;36mSSOCredentialFetcher._get_credentials\u001b[0;34m(self)\u001b[0m\n\u001b[1;32m   2148\u001b[0m \u001b[38;5;28;01mif\u001b[39;00m \u001b[38;5;28mself\u001b[39m\u001b[38;5;241m.\u001b[39m_token_provider:\n\u001b[1;32m   2149\u001b[0m     initial_token_data \u001b[38;5;241m=\u001b[39m \u001b[38;5;28mself\u001b[39m\u001b[38;5;241m.\u001b[39m_token_provider\u001b[38;5;241m.\u001b[39mload_token()\n\u001b[0;32m-> 2150\u001b[0m     token \u001b[38;5;241m=\u001b[39m \u001b[43minitial_token_data\u001b[49m\u001b[38;5;241;43m.\u001b[39;49m\u001b[43mget_frozen_token\u001b[49m\u001b[43m(\u001b[49m\u001b[43m)\u001b[49m\u001b[38;5;241m.\u001b[39mtoken\n\u001b[1;32m   2151\u001b[0m \u001b[38;5;28;01melse\u001b[39;00m:\n\u001b[1;32m   2152\u001b[0m     token \u001b[38;5;241m=\u001b[39m \u001b[38;5;28mself\u001b[39m\u001b[38;5;241m.\u001b[39m_token_loader(\u001b[38;5;28mself\u001b[39m\u001b[38;5;241m.\u001b[39m_start_url)[\u001b[38;5;124m'\u001b[39m\u001b[38;5;124maccessToken\u001b[39m\u001b[38;5;124m'\u001b[39m]\n",
      "File \u001b[0;32m~/Library/Python/3.9/lib/python/site-packages/botocore/tokens.py:82\u001b[0m, in \u001b[0;36mDeferredRefreshableToken.get_frozen_token\u001b[0;34m(self)\u001b[0m\n\u001b[1;32m     81\u001b[0m \u001b[38;5;28;01mdef\u001b[39;00m \u001b[38;5;21mget_frozen_token\u001b[39m(\u001b[38;5;28mself\u001b[39m):\n\u001b[0;32m---> 82\u001b[0m     \u001b[38;5;28;43mself\u001b[39;49m\u001b[38;5;241;43m.\u001b[39;49m\u001b[43m_refresh\u001b[49m\u001b[43m(\u001b[49m\u001b[43m)\u001b[49m\n\u001b[1;32m     83\u001b[0m     \u001b[38;5;28;01mreturn\u001b[39;00m \u001b[38;5;28mself\u001b[39m\u001b[38;5;241m.\u001b[39m_frozen_token\n",
      "File \u001b[0;32m~/Library/Python/3.9/lib/python/site-packages/botocore/tokens.py:95\u001b[0m, in \u001b[0;36mDeferredRefreshableToken._refresh\u001b[0;34m(self)\u001b[0m\n\u001b[1;32m     93\u001b[0m \u001b[38;5;28;01mif\u001b[39;00m \u001b[38;5;28mself\u001b[39m\u001b[38;5;241m.\u001b[39m_refresh_lock\u001b[38;5;241m.\u001b[39macquire(block_for_refresh):\n\u001b[1;32m     94\u001b[0m     \u001b[38;5;28;01mtry\u001b[39;00m:\n\u001b[0;32m---> 95\u001b[0m         \u001b[38;5;28;43mself\u001b[39;49m\u001b[38;5;241;43m.\u001b[39;49m\u001b[43m_protected_refresh\u001b[49m\u001b[43m(\u001b[49m\u001b[43m)\u001b[49m\n\u001b[1;32m     96\u001b[0m     \u001b[38;5;28;01mfinally\u001b[39;00m:\n\u001b[1;32m     97\u001b[0m         \u001b[38;5;28mself\u001b[39m\u001b[38;5;241m.\u001b[39m_refresh_lock\u001b[38;5;241m.\u001b[39mrelease()\n",
      "File \u001b[0;32m~/Library/Python/3.9/lib/python/site-packages/botocore/tokens.py:122\u001b[0m, in \u001b[0;36mDeferredRefreshableToken._protected_refresh\u001b[0;34m(self)\u001b[0m\n\u001b[1;32m    118\u001b[0m         \u001b[38;5;28;01mraise\u001b[39;00m\n\u001b[1;32m    120\u001b[0m \u001b[38;5;28;01mif\u001b[39;00m \u001b[38;5;28mself\u001b[39m\u001b[38;5;241m.\u001b[39m_is_expired():\n\u001b[1;32m    121\u001b[0m     \u001b[38;5;66;03m# Fresh credentials should never be expired\u001b[39;00m\n\u001b[0;32m--> 122\u001b[0m     \u001b[38;5;28;01mraise\u001b[39;00m TokenRetrievalError(\n\u001b[1;32m    123\u001b[0m         provider\u001b[38;5;241m=\u001b[39m\u001b[38;5;28mself\u001b[39m\u001b[38;5;241m.\u001b[39mmethod,\n\u001b[1;32m    124\u001b[0m         error_msg\u001b[38;5;241m=\u001b[39m\u001b[38;5;124m\"\u001b[39m\u001b[38;5;124mToken has expired and refresh failed\u001b[39m\u001b[38;5;124m\"\u001b[39m,\n\u001b[1;32m    125\u001b[0m     )\n",
      "\u001b[0;31mTokenRetrievalError\u001b[0m: Error when retrieving token from sso: Token has expired and refresh failed"
     ]
    }
   ],
   "source": [
    "import os\n",
    "init_configuration = \"\"\"You are an anonimization tool in identifying attributes in texts that can identify or quasi-identify a user.\"\"\"\n",
    "orden = \"\"\" Devuelve solo el texto original con la identificación y etiquetación del texto con la información personal del paciente añadiendolo entre claudators, por ejemplo: [**arquitecto**], [**8/9/21**], [**padre**]. No comentes nada más \"\"\"\n",
    "path = './data/processed/txt'\n",
    "\n",
    "for file in os.listdir(path):\n",
    "    [text, text_masked] = get_text_and_masked_carmen(file)\n",
    "    body = generate_prompt(text, init_configuration, orden)\n",
    "    response = bedrock.invoke_model(body=body, modelId=model_id)\n",
    "    text_generated = response['generation']\n",
    "    cal_met = evaluate(text_hoped, text_generated)\n",
    "    print(f\"Precision: {cal_met[0]}\")\n",
    "    print(f\"Recall: {cal_met[1]}\")\n",
    "    print(f\"F1: {cal_met[2]}\")\n",
    "    "
   ]
  },
  {
   "cell_type": "code",
   "execution_count": null,
   "metadata": {},
   "outputs": [],
   "source": []
  }
 ],
 "metadata": {
  "kernelspec": {
   "display_name": "Python 3",
   "language": "python",
   "name": "python3"
  },
  "language_info": {
   "codemirror_mode": {
    "name": "ipython",
    "version": 3
   },
   "file_extension": ".py",
   "mimetype": "text/x-python",
   "name": "python",
   "nbconvert_exporter": "python",
   "pygments_lexer": "ipython3",
   "version": "3.9.6"
  }
 },
 "nbformat": 4,
 "nbformat_minor": 2
}
