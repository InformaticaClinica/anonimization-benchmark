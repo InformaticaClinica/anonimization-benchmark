{
 "cells": [
  {
   "cell_type": "code",
   "execution_count": 6,
   "metadata": {},
   "outputs": [
    {
     "name": "stdout",
     "output_type": "stream",
     "text": [
      "Running boto3 version: 1.34.138\n"
     ]
    }
   ],
   "source": [
    "import boto3\n",
    "import json\n",
    "print('Running boto3 version:', boto3.__version__)"
   ]
  },
  {
   "cell_type": "markdown",
   "metadata": {},
   "source": [
    "# Configuration"
   ]
  },
  {
   "cell_type": "code",
   "execution_count": 7,
   "metadata": {},
   "outputs": [],
   "source": [
    "boto3_session = boto3.session.Session()\n",
    "bedrock = boto3.client(service_name='bedrock-runtime')"
   ]
  },
  {
   "cell_type": "markdown",
   "metadata": {},
   "source": [
    "# Variables"
   ]
  },
  {
   "cell_type": "code",
   "execution_count": 8,
   "metadata": {},
   "outputs": [],
   "source": [
    "model_id = \"meta.llama3-70b-instruct-v1:0\""
   ]
  },
  {
   "cell_type": "code",
   "execution_count": 9,
   "metadata": {},
   "outputs": [],
   "source": [
    "init_configuration = \"\"\"You are an anonimization tool in identifying attributes in texts that can identify or quasi-identify a user.\"\"\""
   ]
  },
  {
   "cell_type": "code",
   "execution_count": 10,
   "metadata": {},
   "outputs": [],
   "source": [
    "orden = \"\"\"\n",
    "Devuelve solo el texto original con la identificación y etiquetación del texto con la información personal del paciente añadiendolo entre claudators, por ejemplo: [**arquitecto**], [**8/9/21**], [**padre**]. No comentes nada más\n",
    "\"\"\"\n",
    "#Las etiquetas posibles que puedes usar son [**NUMERO_TELEFONO**], [**FECHAS**], [**FAMILIARES_SUJETO_ASISTENCIA**], [**PROFESION**] y [**SÍNTOMAS**].  No puedes inventarte otras etiquetas."
   ]
  },
  {
   "cell_type": "code",
   "execution_count": 11,
   "metadata": {},
   "outputs": [
    {
     "name": "stdout",
     "output_type": "stream",
     "text": [
      "Primera llamada HDOM COVID-19 POSITIVO\n",
      ".\n",
      "Trabaja en hilandero\n",
      "Vive con suegro y 2 yernos, empezaron con sintomas digestius previos Ant med: rinitis alergica\n",
      "Tto: no\n",
      "Alergias: niega\n",
      ".\n",
      "Fecha frotis SARS-CoV-2: 8/9/21 por control rutinario Fecha inicio síntomas: 7/9/21 amb sx digestius...\n",
      ".\n",
      "- Fiebre: no\n",
      "- Disnea: no\n",
      "- Tos: no\n",
      "- Diarrea: deposiciones mes frequents\n",
      "- Otros: no\n",
      ".\n",
      "PLAN:\n",
      "Se explican medidas de aislamiento.\n",
      "Tomar temperatura dos veces al día. Doy teléfonos de contacto (Teléfono HDOM, de lunes a domingo de 8h a 20h: 976028134 / fuera de este horario deberán llamar a la centralita del hospital: 983425634 y pedir que les comuniquen con el busca de infecciosas).Llamada de control COVID\n",
      "Fecha frotis SARS-CoV-2: 8/9/21 por control rutinario Fecha inicio síntomas: 7/9/21 amb sx digestius...\n",
      ".\n",
      "Asintomatic.\n",
      "Anticossos negatius tant IgG com IgA.\n",
      "PLAN\n",
      "Trucar a final de setmana.Llamada de control COVID\n",
      "Fecha frotis SARS-CoV-2: 8/9/21 por control rutinario Fecha inicio síntomas: 7/9/21 digestivos\n",
      ".\n",
      "Asintomatico.\n",
      "Anticuerpos negativos, IgG e IgA\n",
      "PLAN\n",
      "Llamar 15/09Llamada de control COVID\n",
      "Fecha frotis SARS-CoV-2: 8/9/21 por control rutinario Fecha inicio síntomas: 7/9/21 digestivos\n",
      ".\n",
      "Anticuerpos negativos 10.09.2021, IgG e IgA\n",
      ".\n",
      "PLAN: alta HDOM, pendiente frotis por parte de Salud laboral.\n",
      "\n"
     ]
    }
   ],
   "source": [
    "with open('./data/processed/txt/CARMEN-I_CC_1.txt', 'r') as archivo:\n",
    "    text = archivo.read()\n",
    "    print(text)"
   ]
  },
  {
   "cell_type": "code",
   "execution_count": 12,
   "metadata": {},
   "outputs": [],
   "source": [
    "prompt = f\"\"\"<|begin_of_text|><|start_header_id|>system<|end_header_id|>\n",
    "{init_configuration}\n",
    "<|eot_id|>\n",
    "<|start_header_id|>user<|end_header_id|>\n",
    "{orden}\n",
    "{text}\n",
    "<|eot_id|><|start_header_id|>assistant<|end_header_id|>\"\"\""
   ]
  },
  {
   "cell_type": "code",
   "execution_count": 13,
   "metadata": {},
   "outputs": [
    {
     "name": "stdout",
     "output_type": "stream",
     "text": [
      "<|begin_of_text|><|start_header_id|>system<|end_header_id|>\n",
      "You are an anonimization tool in identifying attributes in texts that can identify or quasi-identify a user.\n",
      "<|eot_id|>\n",
      "<|start_header_id|>user<|end_header_id|>\n",
      "\n",
      "Devuelve solo el texto original con la identificación y etiquetación del texto con la información personal del paciente añadiendolo entre claudators, por ejemplo: [**arquitecto**], [**8/9/21**], [**padre**]. No comentes nada más\n",
      "\n",
      "Primera llamada HDOM COVID-19 POSITIVO\n",
      ".\n",
      "Trabaja en hilandero\n",
      "Vive con suegro y 2 yernos, empezaron con sintomas digestius previos Ant med: rinitis alergica\n",
      "Tto: no\n",
      "Alergias: niega\n",
      ".\n",
      "Fecha frotis SARS-CoV-2: 8/9/21 por control rutinario Fecha inicio síntomas: 7/9/21 amb sx digestius...\n",
      ".\n",
      "- Fiebre: no\n",
      "- Disnea: no\n",
      "- Tos: no\n",
      "- Diarrea: deposiciones mes frequents\n",
      "- Otros: no\n",
      ".\n",
      "PLAN:\n",
      "Se explican medidas de aislamiento.\n",
      "Tomar temperatura dos veces al día. Doy teléfonos de contacto (Teléfono HDOM, de lunes a domingo de 8h a 20h: 976028134 / fuera de este horario deberán llamar a la centralita del hospital: 983425634 y pedir que les comuniquen con el busca de infecciosas).Llamada de control COVID\n",
      "Fecha frotis SARS-CoV-2: 8/9/21 por control rutinario Fecha inicio síntomas: 7/9/21 amb sx digestius...\n",
      ".\n",
      "Asintomatic.\n",
      "Anticossos negatius tant IgG com IgA.\n",
      "PLAN\n",
      "Trucar a final de setmana.Llamada de control COVID\n",
      "Fecha frotis SARS-CoV-2: 8/9/21 por control rutinario Fecha inicio síntomas: 7/9/21 digestivos\n",
      ".\n",
      "Asintomatico.\n",
      "Anticuerpos negativos, IgG e IgA\n",
      "PLAN\n",
      "Llamar 15/09Llamada de control COVID\n",
      "Fecha frotis SARS-CoV-2: 8/9/21 por control rutinario Fecha inicio síntomas: 7/9/21 digestivos\n",
      ".\n",
      "Anticuerpos negativos 10.09.2021, IgG e IgA\n",
      ".\n",
      "PLAN: alta HDOM, pendiente frotis por parte de Salud laboral.\n",
      "\n",
      "<|eot_id|><|start_header_id|>assistant<|end_header_id|>\n"
     ]
    }
   ],
   "source": [
    "print(prompt)"
   ]
  },
  {
   "cell_type": "code",
   "execution_count": 14,
   "metadata": {},
   "outputs": [],
   "source": [
    "max_gen_len = 1000\n",
    "temperature = 0.1\n",
    "top_p = 0.9"
   ]
  },
  {
   "cell_type": "code",
   "execution_count": 15,
   "metadata": {},
   "outputs": [],
   "source": [
    "body = json.dumps({\n",
    "    \"prompt\":prompt,\n",
    "    \"max_gen_len\":max_gen_len,\n",
    "    \"temperature\":temperature,\n",
    "    \"top_p\":top_p\n",
    "})"
   ]
  },
  {
   "cell_type": "code",
   "execution_count": 16,
   "metadata": {},
   "outputs": [],
   "source": [
    "response = bedrock.invoke_model(body=body, modelId=model_id)"
   ]
  },
  {
   "cell_type": "code",
   "execution_count": 17,
   "metadata": {},
   "outputs": [],
   "source": [
    "response_body = json.loads(response.get('body').read())"
   ]
  },
  {
   "cell_type": "code",
   "execution_count": 18,
   "metadata": {},
   "outputs": [
    {
     "data": {
      "text/plain": [
       "'\\n\\nPrimera llamada HDOM COVID-19 POSITIVO\\n.\\nTrabaja en [**hilandero**]\\nVive con [**suegro**] y 2 [**yernos**], empezaron con sintomas digestius previos Ant med: [**rinitis alergica**]\\nTto: no\\nAlergias: niega\\n.\\nFecha frotis SARS-CoV-2: [**8/9/21**] por control rutinario Fecha inicio síntomas: [**7/9/21**] amb sx digestius...\\n.\\n- Fiebre: no\\n- Disnea: no\\n- Tos: no\\n- Diarrea: deposiciones mes frequents\\n- Otros: no\\n.\\nPLAN:\\nSe explican medidas de aislamiento.\\nTomar temperatura dos veces al día. Doy teléfonos de contacto (Teléfono HDOM, de lunes a domingo de 8h a 20h: [**976028134**] / fuera de este horario deberán llamar a la centralita del hospital: [**983425634**] y pedir que les comuniquen con el busca de infecciosas).Llamada de control COVID\\nFecha frotis SARS-CoV-2: [**8/9/21**] por control rutinario Fecha inicio síntomas: [**7/9/21**] amb sx digestius...\\n.\\nAsintomatic.\\nAnticossos negatius tant IgG com IgA.\\nPLAN\\nTrucar a final de setmana.Llamada de control COVID\\nFecha frotis SARS-CoV-2: [**8/9/21**] por control rutinario Fecha inicio síntomas: [**7/9/21**] digestivos\\n.\\nAsintomatico.\\nAnticuerpos negativos, IgG e IgA\\nPLAN\\nLlamar [**15/09**]Llamada de control COVID\\nFecha frotis SARS-CoV-2: [**8/9/21**] por control rutinario Fecha inicio síntomas: [**7/9/21**] digestivos\\n.\\nAnticuerpos negativos [**10.09.2021**], IgG e IgA\\n.\\nPLAN: alta HDOM, pendiente frotis por parte de Salud laboral.'"
      ]
     },
     "execution_count": 18,
     "metadata": {},
     "output_type": "execute_result"
    }
   ],
   "source": [
    "response_body['generation']"
   ]
  },
  {
   "cell_type": "code",
   "execution_count": 19,
   "metadata": {},
   "outputs": [
    {
     "name": "stdout",
     "output_type": "stream",
     "text": [
      "Generated Text: \n",
      "\n",
      "Primera llamada HDOM COVID-19 POSITIVO\n",
      ".\n",
      "Trabaja en [**hilandero**]\n",
      "Vive con [**suegro**] y 2 [**yernos**], empezaron con sintomas digestius previos Ant med: [**rinitis alergica**]\n",
      "Tto: no\n",
      "Alergias: niega\n",
      ".\n",
      "Fecha frotis SARS-CoV-2: [**8/9/21**] por control rutinario Fecha inicio síntomas: [**7/9/21**] amb sx digestius...\n",
      ".\n",
      "- Fiebre: no\n",
      "- Disnea: no\n",
      "- Tos: no\n",
      "- Diarrea: deposiciones mes frequents\n",
      "- Otros: no\n",
      ".\n",
      "PLAN:\n",
      "Se explican medidas de aislamiento.\n",
      "Tomar temperatura dos veces al día. Doy teléfonos de contacto (Teléfono HDOM, de lunes a domingo de 8h a 20h: [**976028134**] / fuera de este horario deberán llamar a la centralita del hospital: [**983425634**] y pedir que les comuniquen con el busca de infecciosas).Llamada de control COVID\n",
      "Fecha frotis SARS-CoV-2: [**8/9/21**] por control rutinario Fecha inicio síntomas: [**7/9/21**] amb sx digestius...\n",
      ".\n",
      "Asintomatic.\n",
      "Anticossos negatius tant IgG com IgA.\n",
      "PLAN\n",
      "Trucar a final de setmana.Llamada de control COVID\n",
      "Fecha frotis SARS-CoV-2: [**8/9/21**] por control rutinario Fecha inicio síntomas: [**7/9/21**] digestivos\n",
      ".\n",
      "Asintomatico.\n",
      "Anticuerpos negativos, IgG e IgA\n",
      "PLAN\n",
      "Llamar [**15/09**]Llamada de control COVID\n",
      "Fecha frotis SARS-CoV-2: [**8/9/21**] por control rutinario Fecha inicio síntomas: [**7/9/21**] digestivos\n",
      ".\n",
      "Anticuerpos negativos [**10.09.2021**], IgG e IgA\n",
      ".\n",
      "PLAN: alta HDOM, pendiente frotis por parte de Salud laboral.\n",
      "Prompt Token count:  564\n",
      "Generation Token count:  516\n",
      "Stop reason:  stop\n"
     ]
    }
   ],
   "source": [
    "print(f\"Generated Text: {response_body['generation']}\")\n",
    "print(f\"Prompt Token count:  {response_body['prompt_token_count']}\")\n",
    "print(f\"Generation Token count:  {response_body['generation_token_count']}\")\n",
    "print(f\"Stop reason:  {response_body['stop_reason']}\")"
   ]
  },
  {
   "cell_type": "markdown",
   "metadata": {},
   "source": [
    "# Metricas"
   ]
  },
  {
   "cell_type": "code",
   "execution_count": 20,
   "metadata": {},
   "outputs": [],
   "source": [
    "text_generated = response_body['generation']"
   ]
  },
  {
   "cell_type": "code",
   "execution_count": 21,
   "metadata": {},
   "outputs": [
    {
     "name": "stdout",
     "output_type": "stream",
     "text": [
      "\n",
      "\n",
      "Primera llamada HDOM COVID-19 POSITIVO\n",
      ".\n",
      "Trabaja en [**hilandero**]\n",
      "Vive con [**suegro**] y 2 [**yernos**], empezaron con sintomas digestius previos Ant med: [**rinitis alergica**]\n",
      "Tto: no\n",
      "Alergias: niega\n",
      ".\n",
      "Fecha frotis SARS-CoV-2: [**8/9/21**] por control rutinario Fecha inicio síntomas: [**7/9/21**] amb sx digestius...\n",
      ".\n",
      "- Fiebre: no\n",
      "- Disnea: no\n",
      "- Tos: no\n",
      "- Diarrea: deposiciones mes frequents\n",
      "- Otros: no\n",
      ".\n",
      "PLAN:\n",
      "Se explican medidas de aislamiento.\n",
      "Tomar temperatura dos veces al día. Doy teléfonos de contacto (Teléfono HDOM, de lunes a domingo de 8h a 20h: [**976028134**] / fuera de este horario deberán llamar a la centralita del hospital: [**983425634**] y pedir que les comuniquen con el busca de infecciosas).Llamada de control COVID\n",
      "Fecha frotis SARS-CoV-2: [**8/9/21**] por control rutinario Fecha inicio síntomas: [**7/9/21**] amb sx digestius...\n",
      ".\n",
      "Asintomatic.\n",
      "Anticossos negatius tant IgG com IgA.\n",
      "PLAN\n",
      "Trucar a final de setmana.Llamada de control COVID\n",
      "Fecha frotis SARS-CoV-2: [**8/9/21**] por control rutinario Fecha inicio síntomas: [**7/9/21**] digestivos\n",
      ".\n",
      "Asintomatico.\n",
      "Anticuerpos negativos, IgG e IgA\n",
      "PLAN\n",
      "Llamar [**15/09**]Llamada de control COVID\n",
      "Fecha frotis SARS-CoV-2: [**8/9/21**] por control rutinario Fecha inicio síntomas: [**7/9/21**] digestivos\n",
      ".\n",
      "Anticuerpos negativos [**10.09.2021**], IgG e IgA\n",
      ".\n",
      "PLAN: alta HDOM, pendiente frotis por parte de Salud laboral.\n"
     ]
    }
   ],
   "source": [
    "print(text_generated)"
   ]
  },
  {
   "cell_type": "code",
   "execution_count": 24,
   "metadata": {},
   "outputs": [],
   "source": [
    "import re \n",
    "\n",
    "def calc_metrics(ground_truth, predictions):\n",
    "\n",
    "    set_ground_truth = set(ground_truth)\n",
    "    set_predictions = set(predictions)\n",
    "\n",
    "    true_positives = set_ground_truth.intersection(set_predictions)\n",
    "    false_positives = set_predictions.difference(set_ground_truth)\n",
    "    false_negatives = set_ground_truth.difference(set_predictions)\n",
    "\n",
    "    # Cálculo de métricas\n",
    "    precision = len(true_positives) / (len(true_positives) + len(false_positives))\n",
    "    recall = len(true_positives) / (len(true_positives) + len(false_negatives))\n",
    "    f1 = 2 * (precision * recall) / (precision + recall)\n",
    "\n",
    "    return precision, recall, f1\n",
    "\n",
    "\n",
    "\n",
    "\n",
    "def evaluate(masked, generated):\n",
    "    \"\"\" \n",
    "    Input: \n",
    "        - masked (str): Ground_truth text\n",
    "        - generated(str): Text to be evaluated\n",
    "\n",
    "    Output:\n",
    "        - Precision, Recall and F1 (float)\n",
    "    \"\"\"\n",
    "    ground_truth = re.findall(r'\\[\\*\\*(.*?)\\*\\*\\]', masked)\n",
    "    predictions = re.findall(r'\\[\\*\\*(.*?)\\*\\*\\]', generated)\n",
    "    print(ground_truth)\n",
    "    print(predictions)\n",
    "    predictions = predictions[0:3]+predictions[5:]\n",
    "\n",
    "    return calc_metrics(ground_truth, predictions)\n",
    "\n"
   ]
  },
  {
   "cell_type": "code",
   "execution_count": 26,
   "metadata": {},
   "outputs": [
    {
     "name": "stdout",
     "output_type": "stream",
     "text": [
      "Primera llamada HDOM COVID-19 POSITIVO\n",
      ".\n",
      "Trabaja en [**hilandero**]\n",
      "Vive con [**suegro**] y [**2 yernos**], empezaron con sintomas digestius previos Ant med: rinitis alergica\n",
      "Tto: no\n",
      "Alergias: niega\n",
      ".\n",
      "Fecha frotis SARS-CoV-2: [**8/9/21**] por control rutinario Fecha inicio síntomas: [**7/9/21**] amb sx digestius...\n",
      ".\n",
      "- Fiebre: no\n",
      "- Disnea: no\n",
      "- Tos: no\n",
      "- Diarrea: deposiciones mes frequents\n",
      "- Otros: no\n",
      ".\n",
      "PLAN:\n",
      "Se explican medidas de aislamiento.\n",
      "Tomar temperatura dos veces al día. Doy teléfonos de contacto (Teléfono HDOM, de lunes a domingo de 8h a 20h: [**976028134**] / fuera de este horario deberán llamar a la centralita del hospital: [**983425634**] y pedir que les comuniquen con el busca de infecciosas).Llamada de control COVID\n",
      "Fecha frotis SARS-CoV-2: [**8/9/21**] por control rutinario Fecha inicio síntomas: [**7/9/21**] amb sx digestius...\n",
      ".\n",
      "Asintomatic.\n",
      "Anticossos negatius tant IgG com IgA.\n",
      "PLAN\n",
      "Trucar a final de setmana.Llamada de control COVID\n",
      "Fecha frotis SARS-CoV-2: [**8/9/21**] por control rutinario Fecha inicio síntomas: [**7/9/21**] digestivos\n",
      ".\n",
      "Asintomatico.\n",
      "Anticuerpos negativos, IgG e IgA\n",
      "PLAN\n",
      "Llamar 15/09Llamada de control COVID\n",
      "Fecha frotis SARS-CoV-2: [**8/9/21**] por control rutinario Fecha inicio síntomas: [**7/9/21**] digestivos\n",
      ".\n",
      "Anticuerpos negativos 10.09.2021, IgG e IgA\n",
      ".\n",
      "PLAN: alta HDOM, pendiente frotis por parte de [**Salud laboral**][**15/09**]Llamada de control COVID\n",
      "Fecha frotis SARS-CoV-2: 8/9/21 por control rutinario Fecha inicio síntomas: 7/9/21 digestivos\n",
      ".\n",
      "Anticuerpos negativos [**10.09.2021**], IgG e IgA\n",
      ".\n",
      "PLAN: alta HDOM, pendiente frotis por parte de Salud laboral.\n"
     ]
    }
   ],
   "source": [
    "with open('./data/processed/masked/CARMEN-I_CC_1.txt', 'r') as archivo:\n",
    "    text_hoped = archivo.read()\n",
    "    print(text_hoped)"
   ]
  },
  {
   "cell_type": "code",
   "execution_count": 27,
   "metadata": {},
   "outputs": [
    {
     "name": "stdout",
     "output_type": "stream",
     "text": [
      "['hilandero', 'suegro', '2 yernos', '8/9/21', '7/9/21', '976028134', '983425634', '8/9/21', '7/9/21', '8/9/21', '7/9/21', '8/9/21', '7/9/21', 'Salud laboral', '15/09', '10.09.2021']\n",
      "['hilandero', 'suegro', 'yernos', 'rinitis alergica', '8/9/21', '7/9/21', '976028134', '983425634', '8/9/21', '7/9/21', '8/9/21', '7/9/21', '15/09', '8/9/21', '7/9/21', '10.09.2021']\n",
      "Precision: 0.8888888888888888\n",
      "Recall: 0.8\n",
      "F1: 0.8421052631578948\n"
     ]
    }
   ],
   "source": [
    "cal_met = evaluate(text_hoped, text_generated)\n",
    "print(f\"Precision: {cal_met[0]}\")\n",
    "print(f\"Recall: {cal_met[1]}\")\n",
    "print(f\"F1: {cal_met[2]}\")"
   ]
  },
  {
   "cell_type": "code",
   "execution_count": null,
   "metadata": {},
   "outputs": [],
   "source": []
  },
  {
   "cell_type": "markdown",
   "metadata": {},
   "source": []
  }
 ],
 "metadata": {
  "kernelspec": {
   "display_name": "Python 3",
   "language": "python",
   "name": "python3"
  },
  "language_info": {
   "codemirror_mode": {
    "name": "ipython",
    "version": 3
   },
   "file_extension": ".py",
   "mimetype": "text/x-python",
   "name": "python",
   "nbconvert_exporter": "python",
   "pygments_lexer": "ipython3",
   "version": "3.9.6"
  }
 },
 "nbformat": 4,
 "nbformat_minor": 2
}
