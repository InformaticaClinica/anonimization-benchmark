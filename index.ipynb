{
 "cells": [
  {
   "cell_type": "code",
   "execution_count": 1,
   "metadata": {},
   "outputs": [
    {
     "name": "stdout",
     "output_type": "stream",
     "text": [
      "Running boto3 version: 1.34.138\n"
     ]
    }
   ],
   "source": [
    "import boto3\n",
    "import json\n",
    "print('Running boto3 version:', boto3.__version__)"
   ]
  },
  {
   "cell_type": "markdown",
   "metadata": {},
   "source": [
    "# Configuration"
   ]
  },
  {
   "cell_type": "code",
   "execution_count": 2,
   "metadata": {},
   "outputs": [],
   "source": [
    "boto3_session = boto3.session.Session()\n",
    "bedrock = boto3.client(service_name='bedrock-runtime')"
   ]
  },
  {
   "cell_type": "markdown",
   "metadata": {},
   "source": [
    "# Variables"
   ]
  },
  {
   "cell_type": "code",
   "execution_count": 3,
   "metadata": {},
   "outputs": [],
   "source": [
    "model_id = \"meta.llama3-70b-instruct-v1:0\""
   ]
  },
  {
   "cell_type": "code",
   "execution_count": 4,
   "metadata": {},
   "outputs": [],
   "source": [
    "init_configuration = \"\"\"You are an anonimization tool in identifying attributes in texts that can identify or quasi-identify a user.\"\"\""
   ]
  },
  {
   "cell_type": "code",
   "execution_count": 5,
   "metadata": {},
   "outputs": [],
   "source": [
    "orden = \"\"\"\n",
    "Devuelve solo el texto original con la identificación y etiquetación del texto con la información personal del paciente añadiendolo entre claudators, por ejemplo: [**arquitecto**], [**8/9/21**], [**padre**]. No comentes nada más.\n",
    "Las reglas que tienes que utilizar para la identifiación son en los siguientes 18 identificadores especificos en el ISP del HIPAA:\n",
    "    \"Nombres\",\n",
    "    \"Datos geográficos\",\n",
    "    \"Todos los elementos de las fechas\",\n",
    "    \"Números telefónicos\",\n",
    "    \"Números FAX\",\n",
    "    \"Correos electrónicos\",\n",
    "    \"Números de Seguridad Social\",\n",
    "    \"Números de registros médicos\",\n",
    "    \"Números de beneficiarios del plan de salud\",\n",
    "    \"Números de cuenta\",\n",
    "    \"Certificado / números de licencia\",\n",
    "    \"Identificadores de vehículos y números de serie, incluidas placas\",\n",
    "    \"Identificadores de dispositivo y números de serie\",\n",
    "    \"URL web\",\n",
    "    \"Direcciones de protocolo de Internet\",\n",
    "    \"Identificadores biométricos (es decir, escaneo retiniano, huellas dactilares)\",\n",
    "    \"Fotos de cara completa e imágenes comparables\",\n",
    "    \"Cualquier número de identificación único, característica o código\"\n",
    "\"\"\"\n",
    "#Las etiquetas posibles que puedes usar son [**NUMERO_TELEFONO**], [**FECHAS**], [**FAMILIARES_SUJETO_ASISTENCIA**], [**PROFESION**] y [**SÍNTOMAS**].  No puedes inventarte otras etiquetas."
   ]
  },
  {
   "cell_type": "code",
   "execution_count": 6,
   "metadata": {},
   "outputs": [
    {
     "name": "stdout",
     "output_type": "stream",
     "text": [
      "Realizo llamada telefónica. Refiere buen descanso nocturno, sin incidencias. BEGLlamada:\n",
      "Buen estado general, no tos, no disnea, no fiebre, no diarrea.\n",
      "Alta el 20/05, cumpliéndose 3 semanas desde el incio de los síntomas.Visita a pacient\n",
      "Tos: No\n",
      "Dispnea: poc\n",
      "SAt=2:97% basal\n",
      "Ritme deposicional: normal\n",
      "Temperatura: 36,4\n",
      "EVA: 5/10 dolor pit\n",
      "Deambula per l' habitacióPacient bon estat general.\n",
      "Sense àlgies.\n",
      "No diarrees.\n",
      "Tarda sense incidències.Trucada de control:\n",
      "Refereix bon descans nocturn.\n",
      "No àlgies. No sensació distèrimica. No tos. No díspnea. No deposicions.EVOLUCIÓN Centro COVID\n",
      "1. Probable neumonía bilateral Covid19\n",
      "2.Síndrome ansioso\n",
      "Situación social: vive con sus suegros que son mayores.\n",
      "----\n",
      "FECHA INICIO SÍNTOMAS: 27/04/2011\n",
      "FECHA INGRESO URGENCIAS: 29/04/2011\n",
      "FECHA INGRESO Hospital COVID: 3/05/2011\n",
      "---\n",
      "MEDICACIÓN COVID:\n",
      "30/04: Azitromicina\n",
      "---\n",
      "OXÍGENO DURANTE LA ESTANCIA HOSPITALARIA: no\n",
      "OXÍGENO AL ALTA/INGRESO HDOM: no\n",
      "---\n",
      "Analítica 7/05: PCR 0.40, LDH 177, d dimero 200, linfocitos 2100.\n",
      "---\n",
      "RX (7/05): Tenue aumento de densidad en las bases pulmonares de localización periférica, de dudoso significado patológico debido a la superposición de partes blandas y escápulas. Patrón indeterminado para COVID-19. Se aconseja RX de tórax lateral si fuera posible y/o controlevolutivo.\n",
      "---\n",
      "VISITA PRESENCIAL:\n",
      "Paciente consciente y orientado, buen estado general. Afebril. No disnea, tos ni otros síntomas. No diarrea.\n",
      "---\n",
      "Plan: Alta 18/05 una vez cumplido aislamiento.Consciente y orientada.\n",
      "No refiere disnea.\n",
      "Tos: no refiere\n",
      "No refiere molestias.\n",
      "Dps: dentro de la normalidad.Visita al paciente:\n",
      "C y O, eupneico, afebril.\n",
      "No refiere tos ni diarreas.\n",
      "Repasamos medicación.Trucada de control:\n",
      "Refereix bon descans nocturn.\n",
      "No àlgies. No sensació distèrimica. No tos. No díspnea. No deposicions.Pciente consciente y orientada.\n",
      "Tos: no refiere\n",
      "No refiere dolor.\n",
      "No refiere disnea.\n",
      "Dps: dentro de la normalidad.Visita al paciente:\n",
      "C y O, eupneico, sin tos.\n",
      "Afebril.\n",
      "No algias ni diarreas.\n",
      "Repasamos medicación.Buen descanso nocturno. Sin incidencias\n",
      "No refiere algias ni molestias durante la noche.EVOLUCIÓN Centro COVID\n",
      "1. Probable neumonía bilateral Covid19\n",
      "2.Síndrome ansioso\n",
      "Situación social: vive con sus suegros que son mayores.\n",
      "----\n",
      "FECHA INICIO SÍNTOMAS: 27/04/2011\n",
      "FECHA INGRESO URGENCIAS: 29/04/2011\n",
      "FECHA INGRESO HOSPITAL SALUT: 3/05/2011\n",
      "---\n",
      "MEDICACIÓN COVID:\n",
      "30/04: Azitromicina\n",
      "---\n",
      "OXÍGENO DURANTE LA ESTANCIA HOSPITALARIA: no\n",
      "OXÍGENO AL ALTA/INGRESO HDOM: no\n",
      "---\n",
      "Analítica 7/05: PCR 0.40, LDH 177, d dimero 200, linfocitos 2100.\n",
      "---\n",
      "RX (7/05): Tenue aumento de densidad en las bases pulmonares de localización periférica, de dudoso significado patológico debido a la superposición de partes blandas y escápulas. Patrón indeterminado para COVID-19. Se aconseja RX de tórax lateral si fuera posible y/ocontrolevolutivo.\n",
      "---\n",
      "VISITA PRESENCIAL:\n",
      "Paciente consciente y orientado, buen estado general. Afebril. Nodisnea, tos ni otros síntomas. No diarrea.\n",
      "---\n",
      "Plan: Alta hoy con ambulanciaVisita a pacient\n",
      "Tos: no\n",
      "Dispnea: no\n",
      "SAt=2:98% basal\n",
      "Ritme deposicional: normal\n",
      "Temperatura: 35,8\n",
      "EVA: 0/10\n",
      "Deambula per l' habitació. Alta avuí a les 17 h amb ambulànciaEl paciente, tras disponer del tiempo suficiente, acepta y otorga de manera verbal su consentimiento informado para participar del estudio del protocolo WYX/8408/5545. Se entrega de igual manera la información en escrito al paciente\n",
      "\n"
     ]
    }
   ],
   "source": [
    "with open('./data/processed/txt/CARMEN-I_CC_2.txt', 'r') as archivo:\n",
    "    text = archivo.read()\n",
    "    print(text)"
   ]
  },
  {
   "cell_type": "code",
   "execution_count": 7,
   "metadata": {},
   "outputs": [],
   "source": [
    "prompt = f\"\"\"<|begin_of_text|><|start_header_id|>system<|end_header_id|>\n",
    "{init_configuration}\n",
    "<|eot_id|>\n",
    "<|start_header_id|>user<|end_header_id|>\n",
    "{orden}\n",
    "{text}\n",
    "<|eot_id|><|start_header_id|>assistant<|end_header_id|>\"\"\""
   ]
  },
  {
   "cell_type": "code",
   "execution_count": 8,
   "metadata": {},
   "outputs": [
    {
     "name": "stdout",
     "output_type": "stream",
     "text": [
      "<|begin_of_text|><|start_header_id|>system<|end_header_id|>\n",
      "You are an anonimization tool in identifying attributes in texts that can identify or quasi-identify a user.\n",
      "<|eot_id|>\n",
      "<|start_header_id|>user<|end_header_id|>\n",
      "\n",
      "Devuelve solo el texto original con la identificación y etiquetación del texto con la información personal del paciente añadiendolo entre claudators, por ejemplo: [**arquitecto**], [**8/9/21**], [**padre**]. No comentes nada más.\n",
      "Las reglas que tienes que utilizar para la identifiación son en los siguientes 18 identificadores especificos en el ISP del HIPAA:\n",
      "    \"Nombres\",\n",
      "    \"Datos geográficos\",\n",
      "    \"Todos los elementos de las fechas\",\n",
      "    \"Números telefónicos\",\n",
      "    \"Números FAX\",\n",
      "    \"Correos electrónicos\",\n",
      "    \"Números de Seguridad Social\",\n",
      "    \"Números de registros médicos\",\n",
      "    \"Números de beneficiarios del plan de salud\",\n",
      "    \"Números de cuenta\",\n",
      "    \"Certificado / números de licencia\",\n",
      "    \"Identificadores de vehículos y números de serie, incluidas placas\",\n",
      "    \"Identificadores de dispositivo y números de serie\",\n",
      "    \"URL web\",\n",
      "    \"Direcciones de protocolo de Internet\",\n",
      "    \"Identificadores biométricos (es decir, escaneo retiniano, huellas dactilares)\",\n",
      "    \"Fotos de cara completa e imágenes comparables\",\n",
      "    \"Cualquier número de identificación único, característica o código\"\n",
      "\n",
      "Realizo llamada telefónica. Refiere buen descanso nocturno, sin incidencias. BEGLlamada:\n",
      "Buen estado general, no tos, no disnea, no fiebre, no diarrea.\n",
      "Alta el 20/05, cumpliéndose 3 semanas desde el incio de los síntomas.Visita a pacient\n",
      "Tos: No\n",
      "Dispnea: poc\n",
      "SAt=2:97% basal\n",
      "Ritme deposicional: normal\n",
      "Temperatura: 36,4\n",
      "EVA: 5/10 dolor pit\n",
      "Deambula per l' habitacióPacient bon estat general.\n",
      "Sense àlgies.\n",
      "No diarrees.\n",
      "Tarda sense incidències.Trucada de control:\n",
      "Refereix bon descans nocturn.\n",
      "No àlgies. No sensació distèrimica. No tos. No díspnea. No deposicions.EVOLUCIÓN Centro COVID\n",
      "1. Probable neumonía bilateral Covid19\n",
      "2.Síndrome ansioso\n",
      "Situación social: vive con sus suegros que son mayores.\n",
      "----\n",
      "FECHA INICIO SÍNTOMAS: 27/04/2011\n",
      "FECHA INGRESO URGENCIAS: 29/04/2011\n",
      "FECHA INGRESO Hospital COVID: 3/05/2011\n",
      "---\n",
      "MEDICACIÓN COVID:\n",
      "30/04: Azitromicina\n",
      "---\n",
      "OXÍGENO DURANTE LA ESTANCIA HOSPITALARIA: no\n",
      "OXÍGENO AL ALTA/INGRESO HDOM: no\n",
      "---\n",
      "Analítica 7/05: PCR 0.40, LDH 177, d dimero 200, linfocitos 2100.\n",
      "---\n",
      "RX (7/05): Tenue aumento de densidad en las bases pulmonares de localización periférica, de dudoso significado patológico debido a la superposición de partes blandas y escápulas. Patrón indeterminado para COVID-19. Se aconseja RX de tórax lateral si fuera posible y/o controlevolutivo.\n",
      "---\n",
      "VISITA PRESENCIAL:\n",
      "Paciente consciente y orientado, buen estado general. Afebril. No disnea, tos ni otros síntomas. No diarrea.\n",
      "---\n",
      "Plan: Alta 18/05 una vez cumplido aislamiento.Consciente y orientada.\n",
      "No refiere disnea.\n",
      "Tos: no refiere\n",
      "No refiere molestias.\n",
      "Dps: dentro de la normalidad.Visita al paciente:\n",
      "C y O, eupneico, afebril.\n",
      "No refiere tos ni diarreas.\n",
      "Repasamos medicación.Trucada de control:\n",
      "Refereix bon descans nocturn.\n",
      "No àlgies. No sensació distèrimica. No tos. No díspnea. No deposicions.Pciente consciente y orientada.\n",
      "Tos: no refiere\n",
      "No refiere dolor.\n",
      "No refiere disnea.\n",
      "Dps: dentro de la normalidad.Visita al paciente:\n",
      "C y O, eupneico, sin tos.\n",
      "Afebril.\n",
      "No algias ni diarreas.\n",
      "Repasamos medicación.Buen descanso nocturno. Sin incidencias\n",
      "No refiere algias ni molestias durante la noche.EVOLUCIÓN Centro COVID\n",
      "1. Probable neumonía bilateral Covid19\n",
      "2.Síndrome ansioso\n",
      "Situación social: vive con sus suegros que son mayores.\n",
      "----\n",
      "FECHA INICIO SÍNTOMAS: 27/04/2011\n",
      "FECHA INGRESO URGENCIAS: 29/04/2011\n",
      "FECHA INGRESO HOSPITAL SALUT: 3/05/2011\n",
      "---\n",
      "MEDICACIÓN COVID:\n",
      "30/04: Azitromicina\n",
      "---\n",
      "OXÍGENO DURANTE LA ESTANCIA HOSPITALARIA: no\n",
      "OXÍGENO AL ALTA/INGRESO HDOM: no\n",
      "---\n",
      "Analítica 7/05: PCR 0.40, LDH 177, d dimero 200, linfocitos 2100.\n",
      "---\n",
      "RX (7/05): Tenue aumento de densidad en las bases pulmonares de localización periférica, de dudoso significado patológico debido a la superposición de partes blandas y escápulas. Patrón indeterminado para COVID-19. Se aconseja RX de tórax lateral si fuera posible y/ocontrolevolutivo.\n",
      "---\n",
      "VISITA PRESENCIAL:\n",
      "Paciente consciente y orientado, buen estado general. Afebril. Nodisnea, tos ni otros síntomas. No diarrea.\n",
      "---\n",
      "Plan: Alta hoy con ambulanciaVisita a pacient\n",
      "Tos: no\n",
      "Dispnea: no\n",
      "SAt=2:98% basal\n",
      "Ritme deposicional: normal\n",
      "Temperatura: 35,8\n",
      "EVA: 0/10\n",
      "Deambula per l' habitació. Alta avuí a les 17 h amb ambulànciaEl paciente, tras disponer del tiempo suficiente, acepta y otorga de manera verbal su consentimiento informado para participar del estudio del protocolo WYX/8408/5545. Se entrega de igual manera la información en escrito al paciente\n",
      "\n",
      "<|eot_id|><|start_header_id|>assistant<|end_header_id|>\n"
     ]
    }
   ],
   "source": [
    "print(prompt)"
   ]
  },
  {
   "cell_type": "code",
   "execution_count": 9,
   "metadata": {},
   "outputs": [],
   "source": [
    "max_gen_len = 1500\n",
    "temperature = 0.1\n",
    "top_p = 0.9"
   ]
  },
  {
   "cell_type": "code",
   "execution_count": 10,
   "metadata": {},
   "outputs": [],
   "source": [
    "body = json.dumps({\n",
    "    \"prompt\":prompt,\n",
    "    \"max_gen_len\":max_gen_len,\n",
    "    \"temperature\":temperature,\n",
    "    \"top_p\":top_p\n",
    "})"
   ]
  },
  {
   "cell_type": "code",
   "execution_count": 11,
   "metadata": {},
   "outputs": [],
   "source": [
    "response = bedrock.invoke_model(body=body, modelId=model_id)"
   ]
  },
  {
   "cell_type": "code",
   "execution_count": null,
   "metadata": {},
   "outputs": [],
   "source": [
    "response_body = json.loads(response.get('body').read())"
   ]
  },
  {
   "cell_type": "code",
   "execution_count": null,
   "metadata": {},
   "outputs": [
    {
     "data": {
      "text/plain": [
       "\"\\n\\nRealizo llamada telefónica. Refiere buen descanso nocturno, sin incidencias. BEGLlamada:\\nBuen estado general, no tos, no disnea, no fiebre, no diarrea.\\nAlta el 20/05, cumpliéndose 3 semanas desde el incio de los síntomas.Visita a paciente [**con suegros**]\\nTos: No\\nDispnea: poc\\nSAt=2:97% basal\\nRitme deposicional: normal\\nTemperatura: 36,4\\nEVA: 5/10 dolor pit\\nDeambula per l' habitacióPaciente bon estat general.\\nSense àlgies.\\nNo diarrees.\\nTarda sense incidències.Trucada de control:\\nRefereix bon descans nocturn.\\nNo àlgies. No sensació distèrimica. No tos. No díspnea. No deposicions.EVOLUCIÓN Centro COVID\\n1. Probable neumonía bilateral Covid19\\n2.Síndrome ansioso\\nSituación social: vive con sus [**suegros**] que son [**mayores**].\\n----\\nFECHA INICIO SÍNTOMAS: [**27/04/2011**]\\nFECHA INGRESO URGENCIAS: [**29/04/2011**]\\nFECHA INGRESO Hospital COVID: [**3/05/2011**]\\n---\\nMEDICACIÓN COVID:\\n[**30/04**]: Azitromicina\\n---\\nOXÍGENO DURANTE LA ESTANCIA HOSPITALARIA: no\\nOXÍGENO AL ALTA/INGRESO HDOM: no\\n---\\nAnalítica [**7/05**]: PCR 0.40, LDH 177, d dimero 200, linfocitos 2100.\\n---\\nRX ([**7/05**]): Tenue aumento de densidad en las bases pulmonares de localización periférica, de dudoso significado patológico debido a la superposición de partes blandas y escápulas. Patrón indeterminado para COVID-19. Se aconseja RX de tórax lateral si fuera posible y/o controlevolutivo.\\n---\\nVISITA PRESENCIAL:\\nPaciente consciente y orientado, buen estado general. Afebril. No disnea, tos ni otros síntomas. No diarrea.\\n---\\nPlan: Alta [**18/05**] una vez cumplido aislamiento.Consciente y orientada.\\nNo refiere disnea.\\nTos: no refiere\\nNo refiere molestias.\\nDps: dentro de la normalidad.Visita al paciente:\\nC y O, eupneico, afebril.\\nNo refiere tos ni diarreas.\\nRepasamos medicación.Trucada de control:\\nRefereix bon descans nocturn.\\nNo àlgies. No sensació distèrimica. No tos. No díspnea. No deposicions.Pciente consciente y orientada.\\nTos: no refiere\\nNo refiere dolor.\\nNo refiere disnea.\\nDps: dentro de la normalidad.Visita al paciente:\\nC y O, eupneico, sin tos.\\nAfebril.\\nNo algias ni diarreas.\\nRepasamos medicación.Buen descanso nocturno. Sin incidencias\\nNo refiere algias ni molestias durante la noche.EVOLUCIÓN Centro COVID\\n1. Probable neumonía bilateral Covid19\\n2.Síndrome ansioso\\nSituación social: vive con sus [**suegros**] que son [**mayores**].\\n----\\nFECHA INICIO SÍNTOMAS: [**27/04/2011**]\\nFECHA INGRESO URGENCIAS: [**29/04/2011**]\\nFECHA INGRESO HOSPITAL SALUT: [**3/05/2011**]\\n---\\nMEDICACIÓN COVID:\\n[**30/04**]: Azitromicina\\n---\\nOXÍGENO DURANTE LA ESTANCIA HOSPITALARIA: no\\nOXÍGENO AL ALTA/INGRESO HDOM: no\\n---\\nAnalítica [**7/05**]: PCR 0.40, LDH 177, d dimero 200, linfocitos 2100.\\n---\\nRX ([**7/05**]): Tenue aumento de densidad en las bases pulmonares de localización periférica, de dudoso significado patológico debido a\""
      ]
     },
     "execution_count": 89,
     "metadata": {},
     "output_type": "execute_result"
    }
   ],
   "source": [
    "response_body['generation']"
   ]
  },
  {
   "cell_type": "code",
   "execution_count": null,
   "metadata": {},
   "outputs": [
    {
     "name": "stdout",
     "output_type": "stream",
     "text": [
      "Generated Text: \n",
      "\n",
      "Realizo llamada telefónica. Refiere buen descanso nocturno, sin incidencias. BEGLlamada:\n",
      "Buen estado general, no tos, no disnea, no fiebre, no diarrea.\n",
      "Alta el 20/05, cumpliéndose 3 semanas desde el incio de los síntomas.Visita a paciente [**con suegros**]\n",
      "Tos: No\n",
      "Dispnea: poc\n",
      "SAt=2:97% basal\n",
      "Ritme deposicional: normal\n",
      "Temperatura: 36,4\n",
      "EVA: 5/10 dolor pit\n",
      "Deambula per l' habitacióPaciente bon estat general.\n",
      "Sense àlgies.\n",
      "No diarrees.\n",
      "Tarda sense incidències.Trucada de control:\n",
      "Refereix bon descans nocturn.\n",
      "No àlgies. No sensació distèrimica. No tos. No díspnea. No deposicions.EVOLUCIÓN Centro COVID\n",
      "1. Probable neumonía bilateral Covid19\n",
      "2.Síndrome ansioso\n",
      "Situación social: vive con sus [**suegros**] que son [**mayores**].\n",
      "----\n",
      "FECHA INICIO SÍNTOMAS: [**27/04/2011**]\n",
      "FECHA INGRESO URGENCIAS: [**29/04/2011**]\n",
      "FECHA INGRESO Hospital COVID: [**3/05/2011**]\n",
      "---\n",
      "MEDICACIÓN COVID:\n",
      "[**30/04**]: Azitromicina\n",
      "---\n",
      "OXÍGENO DURANTE LA ESTANCIA HOSPITALARIA: no\n",
      "OXÍGENO AL ALTA/INGRESO HDOM: no\n",
      "---\n",
      "Analítica [**7/05**]: PCR 0.40, LDH 177, d dimero 200, linfocitos 2100.\n",
      "---\n",
      "RX ([**7/05**]): Tenue aumento de densidad en las bases pulmonares de localización periférica, de dudoso significado patológico debido a la superposición de partes blandas y escápulas. Patrón indeterminado para COVID-19. Se aconseja RX de tórax lateral si fuera posible y/o controlevolutivo.\n",
      "---\n",
      "VISITA PRESENCIAL:\n",
      "Paciente consciente y orientado, buen estado general. Afebril. No disnea, tos ni otros síntomas. No diarrea.\n",
      "---\n",
      "Plan: Alta [**18/05**] una vez cumplido aislamiento.Consciente y orientada.\n",
      "No refiere disnea.\n",
      "Tos: no refiere\n",
      "No refiere molestias.\n",
      "Dps: dentro de la normalidad.Visita al paciente:\n",
      "C y O, eupneico, afebril.\n",
      "No refiere tos ni diarreas.\n",
      "Repasamos medicación.Trucada de control:\n",
      "Refereix bon descans nocturn.\n",
      "No àlgies. No sensació distèrimica. No tos. No díspnea. No deposicions.Pciente consciente y orientada.\n",
      "Tos: no refiere\n",
      "No refiere dolor.\n",
      "No refiere disnea.\n",
      "Dps: dentro de la normalidad.Visita al paciente:\n",
      "C y O, eupneico, sin tos.\n",
      "Afebril.\n",
      "No algias ni diarreas.\n",
      "Repasamos medicación.Buen descanso nocturno. Sin incidencias\n",
      "No refiere algias ni molestias durante la noche.EVOLUCIÓN Centro COVID\n",
      "1. Probable neumonía bilateral Covid19\n",
      "2.Síndrome ansioso\n",
      "Situación social: vive con sus [**suegros**] que son [**mayores**].\n",
      "----\n",
      "FECHA INICIO SÍNTOMAS: [**27/04/2011**]\n",
      "FECHA INGRESO URGENCIAS: [**29/04/2011**]\n",
      "FECHA INGRESO HOSPITAL SALUT: [**3/05/2011**]\n",
      "---\n",
      "MEDICACIÓN COVID:\n",
      "[**30/04**]: Azitromicina\n",
      "---\n",
      "OXÍGENO DURANTE LA ESTANCIA HOSPITALARIA: no\n",
      "OXÍGENO AL ALTA/INGRESO HDOM: no\n",
      "---\n",
      "Analítica [**7/05**]: PCR 0.40, LDH 177, d dimero 200, linfocitos 2100.\n",
      "---\n",
      "RX ([**7/05**]): Tenue aumento de densidad en las bases pulmonares de localización periférica, de dudoso significado patológico debido a\n",
      "Prompt Token count:  1272\n",
      "Generation Token count:  1000\n",
      "Stop reason:  length\n"
     ]
    }
   ],
   "source": [
    "print(f\"Generated Text: {response_body['generation']}\")\n",
    "print(f\"Prompt Token count:  {response_body['prompt_token_count']}\")\n",
    "print(f\"Generation Token count:  {response_body['generation_token_count']}\")\n",
    "print(f\"Stop reason:  {response_body['stop_reason']}\")"
   ]
  },
  {
   "cell_type": "markdown",
   "metadata": {},
   "source": [
    "# Metricas"
   ]
  },
  {
   "cell_type": "code",
   "execution_count": null,
   "metadata": {},
   "outputs": [],
   "source": [
    "text_generated = response_body['generation']"
   ]
  },
  {
   "cell_type": "code",
   "execution_count": null,
   "metadata": {},
   "outputs": [
    {
     "name": "stdout",
     "output_type": "stream",
     "text": [
      "\n",
      "\n",
      "Realizo llamada telefónica. Refiere buen descanso nocturno, sin incidencias. BEGLlamada:\n",
      "Buen estado general, no tos, no disnea, no fiebre, no diarrea.\n",
      "Alta el 20/05, cumpliéndose 3 semanas desde el incio de los síntomas.Visita a paciente [**con suegros**]\n",
      "Tos: No\n",
      "Dispnea: poc\n",
      "SAt=2:97% basal\n",
      "Ritme deposicional: normal\n",
      "Temperatura: 36,4\n",
      "EVA: 5/10 dolor pit\n",
      "Deambula per l' habitacióPaciente bon estat general.\n",
      "Sense àlgies.\n",
      "No diarrees.\n",
      "Tarda sense incidències.Trucada de control:\n",
      "Refereix bon descans nocturn.\n",
      "No àlgies. No sensació distèrimica. No tos. No díspnea. No deposicions.EVOLUCIÓN Centro COVID\n",
      "1. Probable neumonía bilateral Covid19\n",
      "2.Síndrome ansioso\n",
      "Situación social: vive con sus [**suegros**] que son [**mayores**].\n",
      "----\n",
      "FECHA INICIO SÍNTOMAS: [**27/04/2011**]\n",
      "FECHA INGRESO URGENCIAS: [**29/04/2011**]\n",
      "FECHA INGRESO Hospital COVID: [**3/05/2011**]\n",
      "---\n",
      "MEDICACIÓN COVID:\n",
      "[**30/04**]: Azitromicina\n",
      "---\n",
      "OXÍGENO DURANTE LA ESTANCIA HOSPITALARIA: no\n",
      "OXÍGENO AL ALTA/INGRESO HDOM: no\n",
      "---\n",
      "Analítica [**7/05**]: PCR 0.40, LDH 177, d dimero 200, linfocitos 2100.\n",
      "---\n",
      "RX ([**7/05**]): Tenue aumento de densidad en las bases pulmonares de localización periférica, de dudoso significado patológico debido a la superposición de partes blandas y escápulas. Patrón indeterminado para COVID-19. Se aconseja RX de tórax lateral si fuera posible y/o controlevolutivo.\n",
      "---\n",
      "VISITA PRESENCIAL:\n",
      "Paciente consciente y orientado, buen estado general. Afebril. No disnea, tos ni otros síntomas. No diarrea.\n",
      "---\n",
      "Plan: Alta [**18/05**] una vez cumplido aislamiento.Consciente y orientada.\n",
      "No refiere disnea.\n",
      "Tos: no refiere\n",
      "No refiere molestias.\n",
      "Dps: dentro de la normalidad.Visita al paciente:\n",
      "C y O, eupneico, afebril.\n",
      "No refiere tos ni diarreas.\n",
      "Repasamos medicación.Trucada de control:\n",
      "Refereix bon descans nocturn.\n",
      "No àlgies. No sensació distèrimica. No tos. No díspnea. No deposicions.Pciente consciente y orientada.\n",
      "Tos: no refiere\n",
      "No refiere dolor.\n",
      "No refiere disnea.\n",
      "Dps: dentro de la normalidad.Visita al paciente:\n",
      "C y O, eupneico, sin tos.\n",
      "Afebril.\n",
      "No algias ni diarreas.\n",
      "Repasamos medicación.Buen descanso nocturno. Sin incidencias\n",
      "No refiere algias ni molestias durante la noche.EVOLUCIÓN Centro COVID\n",
      "1. Probable neumonía bilateral Covid19\n",
      "2.Síndrome ansioso\n",
      "Situación social: vive con sus [**suegros**] que son [**mayores**].\n",
      "----\n",
      "FECHA INICIO SÍNTOMAS: [**27/04/2011**]\n",
      "FECHA INGRESO URGENCIAS: [**29/04/2011**]\n",
      "FECHA INGRESO HOSPITAL SALUT: [**3/05/2011**]\n",
      "---\n",
      "MEDICACIÓN COVID:\n",
      "[**30/04**]: Azitromicina\n",
      "---\n",
      "OXÍGENO DURANTE LA ESTANCIA HOSPITALARIA: no\n",
      "OXÍGENO AL ALTA/INGRESO HDOM: no\n",
      "---\n",
      "Analítica [**7/05**]: PCR 0.40, LDH 177, d dimero 200, linfocitos 2100.\n",
      "---\n",
      "RX ([**7/05**]): Tenue aumento de densidad en las bases pulmonares de localización periférica, de dudoso significado patológico debido a\n"
     ]
    }
   ],
   "source": [
    "print(text_generated)"
   ]
  },
  {
   "cell_type": "code",
   "execution_count": null,
   "metadata": {},
   "outputs": [],
   "source": [
    "import re \n",
    "\n",
    "def calc_metrics(ground_truth, predictions):\n",
    "\n",
    "    set_ground_truth = set(ground_truth)\n",
    "    set_predictions = set(predictions)\n",
    "\n",
    "    true_positives = set_ground_truth.intersection(set_predictions)\n",
    "    false_positives = set_predictions.difference(set_ground_truth)\n",
    "    false_negatives = set_ground_truth.difference(set_predictions)\n",
    "    \n",
    "    # Cálculo de métricas\n",
    "    precision = len(true_positives) / (len(true_positives) + len(false_positives))\n",
    "    recall = len(true_positives) / (len(true_positives) + len(false_negatives))\n",
    "    f1 = 2 * (precision * recall) / (precision + recall)\n",
    "\n",
    "    return precision, recall, f1\n",
    "\n",
    "\n",
    "\n",
    "\n",
    "def evaluate(masked, generated):\n",
    "    \"\"\" \n",
    "    Input: \n",
    "        - masked (str): Ground_truth text\n",
    "        - generated(str): Text to be evaluated\n",
    "\n",
    "    Output:\n",
    "        - Precision, Recall and F1 (float)\n",
    "    \"\"\"\n",
    "    ground_truth = re.findall(r'\\[\\*\\*(.*?)\\*\\*\\]', masked)\n",
    "    predictions = re.findall(r'\\[\\*\\*(.*?)\\*\\*\\]', generated)\n",
    "    print(ground_truth)\n",
    "    print(predictions)\n",
    "    predictions = predictions[0:3]+predictions[5:]\n",
    "\n",
    "    return calc_metrics(ground_truth, predictions)\n",
    "\n"
   ]
  },
  {
   "cell_type": "code",
   "execution_count": null,
   "metadata": {},
   "outputs": [],
   "source": [
    "with open('./data/processed/masked/CARMEN-I_CC_2.txt', 'r') as archivo:\n",
    "    text_hoped = archivo.read()"
   ]
  },
  {
   "cell_type": "code",
   "execution_count": null,
   "metadata": {},
   "outputs": [
    {
     "name": "stdout",
     "output_type": "stream",
     "text": [
      "['20/05', 'Centro COVID', 'suegros', '27/04/2011', '29/04/2011', 'Hospital COVID', '3/05/2011', '30/04', '7/05', '7/05', '18/05', 'Centro COVID', 'suegros', '27/04/2011', '29/04/2011', '3/05/2011', '30/04', '7/05', '7/05', 'WYX/8408/5545']\n",
      "['con suegros', 'suegros', 'mayores', '27/04/2011', '29/04/2011', '3/05/2011', '30/04', '7/05', '7/05', '18/05', 'suegros', 'mayores', '27/04/2011', '29/04/2011', '3/05/2011', '30/04', '7/05', '7/05']\n",
      "Precision: 0.7777777777777778\n",
      "Recall: 0.6363636363636364\n",
      "F1: 0.7000000000000001\n"
     ]
    }
   ],
   "source": [
    "cal_met = evaluate(text_hoped, text_generated)\n",
    "print(f\"Precision: {cal_met[0]}\")\n",
    "print(f\"Recall: {cal_met[1]}\")\n",
    "print(f\"F1: {cal_met[2]}\")"
   ]
  },
  {
   "cell_type": "markdown",
   "metadata": {},
   "source": [
    "## Cosine similarity"
   ]
  },
  {
   "cell_type": "code",
   "execution_count": null,
   "metadata": {},
   "outputs": [
    {
     "name": "stdout",
     "output_type": "stream",
     "text": [
      "La similitud del coseno entre los textos es: 0.9718933124730674\n"
     ]
    }
   ],
   "source": [
    "from sklearn.feature_extraction.text import TfidfVectorizer\n",
    "from sklearn.metrics.pairwise import cosine_similarity\n",
    "\n",
    "vectorizer = TfidfVectorizer()\n",
    "tfidf_matrix = vectorizer.fit_transform([text_hoped, text_generated])\n",
    "\n",
    "cosine_sim = cosine_similarity(tfidf_matrix[0:1], tfidf_matrix[1:2])\n",
    "\n",
    "print(f\"La similitud del coseno entre los textos es: {cosine_sim[0][0]}\")"
   ]
  }
 ],
 "metadata": {
  "kernelspec": {
   "display_name": "Python 3",
   "language": "python",
   "name": "python3"
  },
  "language_info": {
   "codemirror_mode": {
    "name": "ipython",
    "version": 3
   },
   "file_extension": ".py",
   "mimetype": "text/x-python",
   "name": "python",
   "nbconvert_exporter": "python",
   "pygments_lexer": "ipython3",
   "version": "3.9.6"
  }
 },
 "nbformat": 4,
 "nbformat_minor": 2
}
