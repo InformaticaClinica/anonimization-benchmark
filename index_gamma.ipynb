{
 "cells": [
  {
   "cell_type": "code",
   "execution_count": 6,
   "metadata": {},
   "outputs": [],
   "source": [
    "from llm.context.llm_context import LLMContext\n",
    "from llm.strategy.big_llama_model import BigLlamaModel\n",
    "from llm.strategy.small_llama_model import SmallLlamaModel\n",
    "from llm.strategy.big_mistral_model import BigMistralModel"
   ]
  },
  {
   "cell_type": "code",
   "execution_count": 7,
   "metadata": {},
   "outputs": [],
   "source": [
    "data = {}\n",
    "data[\"system\"] = \"You are a helpful AI assistant for travel tips and recommendations\"\n",
    "data[\"user\"] = \"What can you help me with?\""
   ]
  },
  {
   "cell_type": "code",
   "execution_count": 8,
   "metadata": {},
   "outputs": [
    {
     "name": "stdout",
     "output_type": "stream",
     "text": [
      "{'outputs': [{'text': ' I can help you with a variety of travel-related tasks, such as:\\n\\n* Researching and recommending destinations based on your interests and preferences\\n* Providing information on visa requirements, weather, and cultural customs for different countries\\n* Suggesting activities and attractions to visit in a specific location\\n* Recommending accommodation options in different price ranges\\n* Providing tips on how to save money while traveling\\n* Help you to plan your itinerary\\n* Recommending local restaurants and cuisines\\n* Providing information on transportation options, including flights, trains, and buses\\n* And many more, I am here to help you to have a great trip. Please let me know what you need help with.', 'stop_reason': 'stop'}]}\n"
     ]
    },
    {
     "data": {
      "text/plain": [
       "' I can help you with a variety of travel-related tasks, such as:\\n\\n* Researching and recommending destinations based on your interests and preferences\\n* Providing information on visa requirements, weather, and cultural customs for different countries\\n* Suggesting activities and attractions to visit in a specific location\\n* Recommending accommodation options in different price ranges\\n* Providing tips on how to save money while traveling\\n* Help you to plan your itinerary\\n* Recommending local restaurants and cuisines\\n* Providing information on transportation options, including flights, trains, and buses\\n* And many more, I am here to help you to have a great trip. Please let me know what you need help with.'"
      ]
     },
     "execution_count": 8,
     "metadata": {},
     "output_type": "execute_result"
    }
   ],
   "source": [
    "context = LLMContext(BigMistralModel())\n",
    "context.generate_response(data)"
   ]
  },
  {
   "cell_type": "code",
   "execution_count": 9,
   "metadata": {},
   "outputs": [],
   "source": [
    "context = LLMContext(BigLlamaModel())\n",
    "context.generate_response(data)"
   ]
  },
  {
   "cell_type": "code",
   "execution_count": null,
   "metadata": {},
   "outputs": [
    {
     "data": {
      "text/plain": [
       "\" I'd be happy to help you with your travel plans! I can assist you with a wide range of topics, including:\\n\\n1. Destination recommendations: I can suggest places to visit, things to do, and experiences to have in various destinations around the world.\\n2. Itinerary planning: I can help you plan your trip by suggesting daily itineraries, including activities, transportation, and accommodations.\\n3. Travel tips and advice: I can provide you with practical tips and advice on how to make the most of your trip, including packing, budgeting, and staying safe.\\n4. Language translation: I can translate phrases and sentences in over 100 languages, helping you communicate with locals and read signs and menus.\\n5. Cultural insights: I can provide you with information about local customs, traditions, and etiquette, helping you navigate unfamiliar cultures.\\n6. Food and drink recommendations: I can suggest local specialties, restaurants, and bars, as well as provide information on food safety and cultural dining etiquette.\\n7. Transportation planning: I can help you plan your transportation, including booking flights, trains, and buses, as well as providing information on public transportation options.\\n8. Accommodation recommendations: I can suggest hotels, hostels, and other types of accommodations, as well as provide information on booking and cancellation policies.\\n9. Budgeting and cost-saving tips: I can help you plan your budget and provide tips on how to save money while traveling.\\n10. Travel insurance and safety: I can provide information on travel insurance options and safety tips to help you stay safe while traveling.\\n\\nWhat can I help you with today?\""
      ]
     },
     "execution_count": 5,
     "metadata": {},
     "output_type": "execute_result"
    }
   ],
   "source": [
    "context = LLMContext(SmallLlamaModel())\n",
    "context.generate_response(data)"
   ]
  },
  {
   "cell_type": "code",
   "execution_count": null,
   "metadata": {},
   "outputs": [],
   "source": []
  }
 ],
 "metadata": {
  "kernelspec": {
   "display_name": "Python 3",
   "language": "python",
   "name": "python3"
  },
  "language_info": {
   "codemirror_mode": {
    "name": "ipython",
    "version": 3
   },
   "file_extension": ".py",
   "mimetype": "text/x-python",
   "name": "python",
   "nbconvert_exporter": "python",
   "pygments_lexer": "ipython3",
   "version": "3.9.6"
  }
 },
 "nbformat": 4,
 "nbformat_minor": 2
}
