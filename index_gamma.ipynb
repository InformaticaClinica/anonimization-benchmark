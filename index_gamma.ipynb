{
 "cells": [
  {
   "cell_type": "code",
   "execution_count": 1,
   "metadata": {},
   "outputs": [],
   "source": [
    "from llm.context.llm_context import LLMContext\n",
    "from llm.strategy.big_llama_model import BigLlamaModel\n",
    "from llm.strategy.small_llama_model import SmallLlamaModel\n",
    "from llm.strategy.big_mistral_model import BigMistralModel"
   ]
  },
  {
   "cell_type": "code",
   "execution_count": 2,
   "metadata": {},
   "outputs": [],
   "source": [
    "data = {}\n",
    "data[\"system\"] = \"You are a helpful AI assistant for travel tips and recommendations\"\n",
    "data[\"user\"] = \"What can you help me with?\""
   ]
  },
  {
   "cell_type": "code",
   "execution_count": 3,
   "metadata": {},
   "outputs": [
    {
     "data": {
      "text/plain": [
       "' I can help you with a variety of travel-related tasks, such as:\\n\\n* Researching and recommending destinations based on your interests and preferences\\n* Providing information on visa requirements, weather, and cultural customs for different countries\\n* Suggesting activities and attractions to visit in a specific location\\n* Recommending accommodation options in different price ranges\\n* Providing tips on how to save money while traveling\\n* Help you to plan your itinerary\\n* Recommending local restaurants and cuisines\\n* Providing information on transportation options, including flights, trains, and car rentals\\n* And many more, I am here to help you to have a smooth and enjoyable trip. Please let me know what specifically you need help with.'"
      ]
     },
     "execution_count": 3,
     "metadata": {},
     "output_type": "execute_result"
    }
   ],
   "source": [
    "context = LLMContext(BigMistralModel())\n",
    "context.generate_response(data)"
   ]
  },
  {
   "cell_type": "code",
   "execution_count": 4,
   "metadata": {},
   "outputs": [
    {
     "data": {
      "text/plain": [
       "\" I'd be delighted to assist you with all your travel-related queries! Here are some ways I can help:\\n\\n1. **Destination Recommendations**: Looking for a perfect getaway? I can suggest destinations based on your interests, budget, and preferences.\\n\\n2. **Itinerary Planning**: Need help planning your trip? I can assist you in creating a personalized itinerary, including activities, accommodations, and transportation.\\n\\n3. **Travel Tips and Advice**: Want to know the best ways to navigate a new city, or how to pack efficiently? I've got you covered with expert travel tips and advice.\\n\\n4. **Accommodation and Activity Bookings**: I can provide recommendations and help you book accommodations, flights, and activities, making your travel planning a breeze.\\n\\n5. **Cultural Insights and Local Secrets**: Want to experience a destination like a local? I can share cultural insights, hidden gems, and off-the-beaten-path recommendations.\\n\\n6. **Travel Safety and Precautions**: Concerned about travel safety? I can offer guidance on how to stay safe while traveling, including health and security precautions.\\n\\n7. **Language and Currency Assistance**: Need help with language translation or currency exchange? I'm here to assist you.\\n\\n8. **Packing and Preparation**: Not sure what to pack or how to prepare for your trip? I can provide checklists and guidance to ensure you're ready for your adventure.\\n\\nWhat's on your mind? Do you have a specific question or topic you'd like to discuss?\""
      ]
     },
     "execution_count": 4,
     "metadata": {},
     "output_type": "execute_result"
    }
   ],
   "source": [
    "context = LLMContext(BigLlamaModel())\n",
    "context.generate_response(data)"
   ]
  },
  {
   "cell_type": "code",
   "execution_count": 5,
   "metadata": {},
   "outputs": [
    {
     "data": {
      "text/plain": [
       "\" I'd be happy to help you with your travel plans! I can assist you with a wide range of topics, including:\\n\\n1. Destination recommendations: I can suggest popular and off-the-beaten-path destinations, based on your interests and preferences.\\n2. Itinerary planning: I can help you plan your trip, including creating a daily schedule, recommending activities, and booking accommodations.\\n3. Travel tips and advice: I can provide you with insider knowledge on how to navigate airports, public transportation, and cultural differences.\\n4. Packing lists: I can help you create a packing list tailored to your destination and activities.\\n5. Language translation: I can translate phrases and sentences for you, helping you communicate with locals during your trip.\\n6. Budgeting and cost-saving tips: I can provide you with budget-friendly options for accommodations, food, and activities.\\n7. Cultural insights: I can share information about local customs, traditions, and etiquette to help you better understand the culture you're visiting.\\n8. Safety and security: I can offer advice on how to stay safe while traveling, including tips on pickpocketing, scams, and other potential risks.\\n9. Food and drink recommendations: I can suggest local specialties, restaurants, and bars, as well as provide tips on how to order food and drinks like a local.\\n10. Travel insurance: I can help you find the right travel insurance policy for your trip, including coverage for medical emergencies, trip cancellations, and lost or stolen luggage.\\n\\nWhat's on your mind? What do you need help with?\""
      ]
     },
     "execution_count": 5,
     "metadata": {},
     "output_type": "execute_result"
    }
   ],
   "source": [
    "context = LLMContext(SmallLlamaModel())\n",
    "context.generate_response(data)"
   ]
  },
  {
   "cell_type": "code",
   "execution_count": null,
   "metadata": {},
   "outputs": [],
   "source": []
  }
 ],
 "metadata": {
  "kernelspec": {
   "display_name": "Python 3",
   "language": "python",
   "name": "python3"
  },
  "language_info": {
   "codemirror_mode": {
    "name": "ipython",
    "version": 3
   },
   "file_extension": ".py",
   "mimetype": "text/x-python",
   "name": "python",
   "nbconvert_exporter": "python",
   "pygments_lexer": "ipython3",
   "version": "3.9.6"
  }
 },
 "nbformat": 4,
 "nbformat_minor": 2
}
